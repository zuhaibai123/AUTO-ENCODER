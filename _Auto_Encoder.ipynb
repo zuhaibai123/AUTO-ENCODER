{
  "nbformat": 4,
  "nbformat_minor": 0,
  "metadata": {
    "colab": {
      "provenance": [],
      "collapsed_sections": [
        "ClIVp46uiQOR",
        "xBDYHeTgVIUp"
      ],
      "include_colab_link": true
    },
    "kernelspec": {
      "name": "python3",
      "display_name": "Python 3"
    },
    "accelerator": "GPU"
  },
  "cells": [
    {
      "cell_type": "markdown",
      "metadata": {
        "id": "view-in-github",
        "colab_type": "text"
      },
      "source": [
        "<a href=\"https://colab.research.google.com/github/zuhaibai123/AUTO-ENCODER/blob/main/_Auto_Encoder.ipynb\" target=\"_parent\"><img src=\"https://colab.research.google.com/assets/colab-badge.svg\" alt=\"Open In Colab\"/></a>"
      ]
    },
    {
      "cell_type": "code",
      "metadata": {
        "id": "66Q6B737QL-R"
      },
      "source": [
        "import tensorflow as tf\n",
        "from tensorflow.keras.datasets import mnist\n",
        "import numpy as np\n",
        "import matplotlib.pyplot as plt"
      ],
      "execution_count": null,
      "outputs": []
    },
    {
      "cell_type": "markdown",
      "source": [
        "## **Loading the Dataset**"
      ],
      "metadata": {
        "id": "-bUmSWkuGui_"
      }
    },
    {
      "cell_type": "code",
      "metadata": {
        "id": "DmqwNIeHUhk9"
      },
      "source": [
        "# Loading the dataset without Target Variables\n",
        "(x_train, _), (x_test, _) = mnist.load_data()"
      ],
      "execution_count": null,
      "outputs": []
    },
    {
      "cell_type": "code",
      "metadata": {
        "id": "LrAQiz9JT-7C",
        "colab": {
          "base_uri": "https://localhost:8080/",
          "height": 87
        },
        "outputId": "deff9e6d-dc77-4c11-bff5-0d3c69685bf7"
      },
      "source": [
        "# Display the Loaded dataset sample images\n",
        "\n",
        "\n",
        "n = 10  # how many digits we will display\n",
        "plt.figure(figsize=(20, 4))\n",
        "for i in range(n):\n",
        "    # display original\n",
        "    ax = plt.subplot(1, n, i + 1)\n",
        "    plt.imshow(x_test[i].reshape(28, 28))\n",
        "    plt.gray()\n",
        "    ax.get_xaxis().set_visible(False)\n",
        "    ax.get_yaxis().set_visible(False)\n",
        "plt.show()\n",
        "plt.close()"
      ],
      "execution_count": null,
      "outputs": [
        {
          "output_type": "display_data",
          "data": {
            "text/plain": [
              "<Figure size 2000x400 with 10 Axes>"
            ],
            "image/png": "[encoded data removed]"
          },
          "metadata": {}
        }
      ]
    },
    {
      "cell_type": "code",
      "metadata": {
        "id": "MMxbBSunUajb",
        "colab": {
          "base_uri": "https://localhost:8080/"
        },
        "outputId": "04abb466-a54c-4b63-c6f2-0cee9b4812b3"
      },
      "source": [
        "x_train = x_train.astype('float32') / 255.\n",
        "x_test = x_test.astype('float32') / 255.\n",
        "x_train = x_train.reshape((len(x_train), 28*28*1))\n",
        "x_test = x_test.reshape((len(x_test), 28*28*1))\n",
        "print (x_train.shape)\n",
        "print (x_test.shape)"
      ],
      "execution_count": null,
      "outputs": [
        {
          "output_type": "stream",
          "name": "stdout",
          "text": [
            "(60000, 784)\n",
            "(10000, 784)\n"
          ]
        }
      ]
    },
    {
      "cell_type": "markdown",
      "source": [
        "# **Auto Encoder using ANN**"
      ],
      "metadata": {
        "id": "ClIVp46uiQOR"
      }
    },
    {
      "cell_type": "markdown",
      "metadata": {
        "id": "u9f8jJmvUoL0"
      },
      "source": [
        "### Preprocessing of Dataset"
      ]
    },
    {
      "cell_type": "markdown",
      "metadata": {
        "id": "xBDYHeTgVIUp"
      },
      "source": [
        "## **Developing Encoder, Decode and Autoencoder Models**"
      ]
    },
    {
      "cell_type": "code",
      "metadata": {
        "id": "RSmRBxDmVC-H"
      },
      "source": [
        "from tensorflow.keras.layers import Input, Dense\n",
        "from tensorflow.keras.models import Model"
      ],
      "execution_count": null,
      "outputs": []
    },
    {
      "cell_type": "code",
      "metadata": {
        "id": "q5-MP4S1VRJM",
        "colab": {
          "base_uri": "https://localhost:8080/"
        },
        "outputId": "dfc83870-624f-4f2b-ffa2-70a078b9de22"
      },
      "source": [
        "input_img = Input(shape=(784,))  #Input layer\n",
        "encoded = Dense(128, activation='relu')(input_img)\n",
        "encoded = Dense(64, activation='relu')(encoded)\n",
        "encoded = Dense(28, activation='relu')(encoded)\n",
        "\n",
        "encoded = Dense(20, activation='relu', name='bot')(encoded)\n",
        "\n",
        "decoded = Dense(28, activation='relu', name='botnext0')(encoded)\n",
        "decoded = Dense(64, activation='relu', name='botnext1')(decoded)\n",
        "decoded = Dense(128, activation='relu', name = 'botnext2')(decoded)\n",
        "decoded = Dense(784, activation='sigmoid', name=\"ae_out\")(decoded)\n",
        "\n",
        "Autoencoder = Model(inputs=input_img, outputs=decoded)\n",
        "Autoencoder.compile(optimizer=tf.keras.optimizers.SGD(0.09,clipvalue=2.5), loss='binary_crossentropy')#, metrics = [\"accuracy\"])\n",
        "Autoencoder.summary()"
      ],
      "execution_count": null,
      "outputs": [
        {
          "output_type": "stream",
          "name": "stdout",
          "text": [
            "Model: \"model_14\"\n",
            "_________________________________________________________________\n",
            " Layer (type)                Output Shape              Param #   \n",
            "=================================================================\n",
            " input_16 (InputLayer)       [(None, 784)]             0         \n",
            "                                                                 \n",
            " dense_9 (Dense)             (None, 128)               100480    \n",
            "                                                                 \n",
            " dense_10 (Dense)            (None, 64)                8256      \n",
            "                                                                 \n",
            " dense_11 (Dense)            (None, 28)                1820      \n",
            "                                                                 \n",
            " bot (Dense)                 (None, 20)                580       \n",
            "                                                                 \n",
            " botnext0 (Dense)            (None, 28)                588       \n",
            "                                                                 \n",
            " botnext1 (Dense)            (None, 64)                1856      \n",
            "                                                                 \n",
            " botnext2 (Dense)            (None, 128)               8320      \n",
            "                                                                 \n",
            " ae_out (Dense)              (None, 784)               101136    \n",
            "                                                                 \n",
            "=================================================================\n",
            "Total params: 223,036\n",
            "Trainable params: 223,036\n",
            "Non-trainable params: 0\n",
            "_________________________________________________________________\n"
          ]
        }
      ]
    },
    {
      "cell_type": "code",
      "metadata": {
        "id": "8TnRX5WfVmrx",
        "colab": {
          "base_uri": "https://localhost:8080/"
        },
        "outputId": "e2f42ea8-5e2b-4128-e760-affd05edf412"
      },
      "source": [
        "#Encoder Model\n",
        "encoder_vn = Model(inputs = input_img, outputs= Autoencoder.get_layer(\"bot\").output )\n",
        "encoder_vn.summary()"
      ],
      "execution_count": null,
      "outputs": [
        {
          "output_type": "stream",
          "name": "stdout",
          "text": [
            "Model: \"model_15\"\n",
            "_________________________________________________________________\n",
            " Layer (type)                Output Shape              Param #   \n",
            "=================================================================\n",
            " input_16 (InputLayer)       [(None, 784)]             0         \n",
            "                                                                 \n",
            " dense_9 (Dense)             (None, 128)               100480    \n",
            "                                                                 \n",
            " dense_10 (Dense)            (None, 64)                8256      \n",
            "                                                                 \n",
            " dense_11 (Dense)            (None, 28)                1820      \n",
            "                                                                 \n",
            " bot (Dense)                 (None, 20)                580       \n",
            "                                                                 \n",
            "=================================================================\n",
            "Total params: 111,136\n",
            "Trainable params: 111,136\n",
            "Non-trainable params: 0\n",
            "_________________________________________________________________\n"
          ]
        }
      ]
    },
    {
      "cell_type": "markdown",
      "source": [],
      "metadata": {
        "id": "kDyBXAT1GQrw"
      }
    },
    {
      "cell_type": "code",
      "metadata": {
        "id": "OB6OhIEFW8eV",
        "colab": {
          "base_uri": "https://localhost:8080/"
        },
        "outputId": "f758bbf9-678d-4595-85a0-6837882ce95f"
      },
      "source": [
        "encoded_input = Input(shape=(20,))\n",
        "d_layer = Autoencoder.get_layer(\"botnext0\")(encoded_input)\n",
        "d_layer = Autoencoder.get_layer(\"botnext1\")(d_layer)\n",
        "d_layer = Autoencoder.get_layer(\"botnext2\")(d_layer)\n",
        "d_layer = Autoencoder.get_layer(\"ae_out\")(d_layer)\n",
        "decoder_vn = Model(inputs = encoded_input , outputs = d_layer)\n",
        "decoder_vn.summary()"
      ],
      "execution_count": null,
      "outputs": [
        {
          "output_type": "stream",
          "name": "stdout",
          "text": [
            "Model: \"model_11\"\n",
            "_________________________________________________________________\n",
            " Layer (type)                Output Shape              Param #   \n",
            "=================================================================\n",
            " input_11 (InputLayer)       [(None, 20)]              0         \n",
            "                                                                 \n",
            " botnext0 (Dense)            (None, 28)                588       \n",
            "                                                                 \n",
            " botnext1 (Dense)            (None, 64)                1856      \n",
            "                                                                 \n",
            " botnext2 (Dense)            (None, 128)               8320      \n",
            "                                                                 \n",
            " ae_out (Dense)              (None, 784)               101136    \n",
            "                                                                 \n",
            "=================================================================\n",
            "Total params: 111,900\n",
            "Trainable params: 111,900\n",
            "Non-trainable params: 0\n",
            "_________________________________________________________________\n"
          ]
        }
      ]
    },
    {
      "cell_type": "code",
      "metadata": {
        "id": "ZPEPkb0-YufP",
        "colab": {
          "base_uri": "https://localhost:8080/"
        },
        "outputId": "ced5f729-38a7-4fba-8a91-75f16848f4e3"
      },
      "source": [
        "Autoencoder.summary()"
      ],
      "execution_count": null,
      "outputs": [
        {
          "output_type": "stream",
          "name": "stdout",
          "text": [
            "Model: \"model_9\"\n",
            "_________________________________________________________________\n",
            " Layer (type)                Output Shape              Param #   \n",
            "=================================================================\n",
            " input_10 (InputLayer)       [(None, 784)]             0         \n",
            "                                                                 \n",
            " dense_6 (Dense)             (None, 128)               100480    \n",
            "                                                                 \n",
            " dense_7 (Dense)             (None, 64)                8256      \n",
            "                                                                 \n",
            " dense_8 (Dense)             (None, 28)                1820      \n",
            "                                                                 \n",
            " bot (Dense)                 (None, 20)                580       \n",
            "                                                                 \n",
            " botnext0 (Dense)            (None, 28)                588       \n",
            "                                                                 \n",
            " botnext1 (Dense)            (None, 64)                1856      \n",
            "                                                                 \n",
            " botnext2 (Dense)            (None, 128)               8320      \n",
            "                                                                 \n",
            " ae_out (Dense)              (None, 784)               101136    \n",
            "                                                                 \n",
            "=================================================================\n",
            "Total params: 223,036\n",
            "Trainable params: 223,036\n",
            "Non-trainable params: 0\n",
            "_________________________________________________________________\n"
          ]
        }
      ]
    },
    {
      "cell_type": "code",
      "metadata": {
        "id": "zVLkzBuIbFvm",
        "colab": {
          "base_uri": "https://localhost:8080/"
        },
        "outputId": "c9f55050-7c30-4147-90c6-4b1a7c885628"
      },
      "source": [
        "from time import time\n",
        "tic = time()\n",
        "Autoencoder.fit(x_train, x_train,\n",
        "                epochs=100,\n",
        "                verbose=2,\n",
        "                batch_size=1024,\n",
        "                shuffle=True, validation_split = 0.1)\n",
        "                #validation_data=(x_test, x_test))\n",
        "toc = time()\n",
        "print(\"Training Took {} Secs\".format(toc-tic))"
      ],
      "execution_count": null,
      "outputs": [
        {
          "output_type": "stream",
          "name": "stdout",
          "text": [
            "Epoch 1/100\n",
            "53/53 - 0s - loss: 0.2494 - val_loss: 0.2493 - 435ms/epoch - 8ms/step\n",
            "Epoch 2/100\n",
            "53/53 - 0s - loss: 0.2494 - val_loss: 0.2492 - 365ms/epoch - 7ms/step\n",
            "Epoch 3/100\n",
            "53/53 - 0s - loss: 0.2494 - val_loss: 0.2493 - 389ms/epoch - 7ms/step\n",
            "Epoch 4/100\n",
            "53/53 - 0s - loss: 0.2493 - val_loss: 0.2492 - 382ms/epoch - 7ms/step\n",
            "Epoch 5/100\n",
            "53/53 - 0s - loss: 0.2493 - val_loss: 0.2492 - 361ms/epoch - 7ms/step\n",
            "Epoch 6/100\n",
            "53/53 - 0s - loss: 0.2493 - val_loss: 0.2492 - 369ms/epoch - 7ms/step\n",
            "Epoch 7/100\n",
            "53/53 - 0s - loss: 0.2493 - val_loss: 0.2491 - 422ms/epoch - 8ms/step\n",
            "Epoch 8/100\n",
            "53/53 - 1s - loss: 0.2493 - val_loss: 0.2492 - 512ms/epoch - 10ms/step\n",
            "Epoch 9/100\n",
            "53/53 - 0s - loss: 0.2493 - val_loss: 0.2491 - 497ms/epoch - 9ms/step\n",
            "Epoch 10/100\n",
            "53/53 - 1s - loss: 0.2493 - val_loss: 0.2491 - 527ms/epoch - 10ms/step\n",
            "Epoch 11/100\n",
            "53/53 - 0s - loss: 0.2493 - val_loss: 0.2491 - 494ms/epoch - 9ms/step\n",
            "Epoch 12/100\n",
            "53/53 - 0s - loss: 0.2492 - val_loss: 0.2491 - 394ms/epoch - 7ms/step\n",
            "Epoch 13/100\n",
            "53/53 - 0s - loss: 0.2492 - val_loss: 0.2491 - 349ms/epoch - 7ms/step\n",
            "Epoch 14/100\n",
            "53/53 - 0s - loss: 0.2492 - val_loss: 0.2491 - 356ms/epoch - 7ms/step\n",
            "Epoch 15/100\n",
            "53/53 - 0s - loss: 0.2492 - val_loss: 0.2491 - 364ms/epoch - 7ms/step\n",
            "Epoch 16/100\n",
            "53/53 - 0s - loss: 0.2492 - val_loss: 0.2490 - 359ms/epoch - 7ms/step\n",
            "Epoch 17/100\n",
            "53/53 - 0s - loss: 0.2492 - val_loss: 0.2491 - 385ms/epoch - 7ms/step\n",
            "Epoch 18/100\n",
            "53/53 - 0s - loss: 0.2492 - val_loss: 0.2490 - 370ms/epoch - 7ms/step\n",
            "Epoch 19/100\n",
            "53/53 - 0s - loss: 0.2492 - val_loss: 0.2491 - 347ms/epoch - 7ms/step\n",
            "Epoch 20/100\n",
            "53/53 - 0s - loss: 0.2491 - val_loss: 0.2491 - 398ms/epoch - 8ms/step\n",
            "Epoch 21/100\n",
            "53/53 - 0s - loss: 0.2491 - val_loss: 0.2490 - 408ms/epoch - 8ms/step\n",
            "Epoch 22/100\n",
            "53/53 - 0s - loss: 0.2491 - val_loss: 0.2490 - 354ms/epoch - 7ms/step\n",
            "Epoch 23/100\n",
            "53/53 - 0s - loss: 0.2491 - val_loss: 0.2490 - 374ms/epoch - 7ms/step\n",
            "Epoch 24/100\n",
            "53/53 - 0s - loss: 0.2491 - val_loss: 0.2490 - 364ms/epoch - 7ms/step\n",
            "Epoch 25/100\n",
            "53/53 - 0s - loss: 0.2491 - val_loss: 0.2490 - 388ms/epoch - 7ms/step\n",
            "Epoch 26/100\n",
            "53/53 - 0s - loss: 0.2491 - val_loss: 0.2489 - 422ms/epoch - 8ms/step\n",
            "Epoch 27/100\n",
            "53/53 - 0s - loss: 0.2491 - val_loss: 0.2490 - 396ms/epoch - 7ms/step\n",
            "Epoch 28/100\n",
            "53/53 - 0s - loss: 0.2490 - val_loss: 0.2489 - 362ms/epoch - 7ms/step\n",
            "Epoch 29/100\n",
            "53/53 - 0s - loss: 0.2490 - val_loss: 0.2490 - 354ms/epoch - 7ms/step\n",
            "Epoch 30/100\n",
            "53/53 - 0s - loss: 0.2490 - val_loss: 0.2489 - 350ms/epoch - 7ms/step\n",
            "Epoch 31/100\n",
            "53/53 - 0s - loss: 0.2490 - val_loss: 0.2489 - 357ms/epoch - 7ms/step\n",
            "Epoch 32/100\n",
            "53/53 - 0s - loss: 0.2490 - val_loss: 0.2488 - 389ms/epoch - 7ms/step\n",
            "Epoch 33/100\n",
            "53/53 - 0s - loss: 0.2490 - val_loss: 0.2488 - 353ms/epoch - 7ms/step\n",
            "Epoch 34/100\n",
            "53/53 - 0s - loss: 0.2490 - val_loss: 0.2488 - 389ms/epoch - 7ms/step\n",
            "Epoch 35/100\n",
            "53/53 - 0s - loss: 0.2490 - val_loss: 0.2488 - 335ms/epoch - 6ms/step\n",
            "Epoch 36/100\n",
            "53/53 - 0s - loss: 0.2489 - val_loss: 0.2488 - 392ms/epoch - 7ms/step\n",
            "Epoch 37/100\n",
            "53/53 - 0s - loss: 0.2489 - val_loss: 0.2488 - 363ms/epoch - 7ms/step\n",
            "Epoch 38/100\n",
            "53/53 - 0s - loss: 0.2489 - val_loss: 0.2488 - 486ms/epoch - 9ms/step\n",
            "Epoch 39/100\n",
            "53/53 - 1s - loss: 0.2489 - val_loss: 0.2489 - 516ms/epoch - 10ms/step\n",
            "Epoch 40/100\n",
            "53/53 - 1s - loss: 0.2489 - val_loss: 0.2488 - 505ms/epoch - 10ms/step\n",
            "Epoch 41/100\n",
            "53/53 - 1s - loss: 0.2489 - val_loss: 0.2488 - 519ms/epoch - 10ms/step\n",
            "Epoch 42/100\n",
            "53/53 - 0s - loss: 0.2489 - val_loss: 0.2487 - 423ms/epoch - 8ms/step\n",
            "Epoch 43/100\n",
            "53/53 - 0s - loss: 0.2488 - val_loss: 0.2487 - 409ms/epoch - 8ms/step\n",
            "Epoch 44/100\n",
            "53/53 - 0s - loss: 0.2488 - val_loss: 0.2487 - 366ms/epoch - 7ms/step\n",
            "Epoch 45/100\n",
            "53/53 - 0s - loss: 0.2488 - val_loss: 0.2487 - 377ms/epoch - 7ms/step\n",
            "Epoch 46/100\n",
            "53/53 - 0s - loss: 0.2488 - val_loss: 0.2487 - 354ms/epoch - 7ms/step\n",
            "Epoch 47/100\n",
            "53/53 - 0s - loss: 0.2488 - val_loss: 0.2487 - 372ms/epoch - 7ms/step\n",
            "Epoch 48/100\n",
            "53/53 - 0s - loss: 0.2488 - val_loss: 0.2486 - 352ms/epoch - 7ms/step\n",
            "Epoch 49/100\n",
            "53/53 - 0s - loss: 0.2487 - val_loss: 0.2486 - 368ms/epoch - 7ms/step\n",
            "Epoch 50/100\n",
            "53/53 - 0s - loss: 0.2487 - val_loss: 0.2486 - 356ms/epoch - 7ms/step\n",
            "Epoch 51/100\n",
            "53/53 - 0s - loss: 0.2487 - val_loss: 0.2486 - 378ms/epoch - 7ms/step\n",
            "Epoch 52/100\n",
            "53/53 - 0s - loss: 0.2487 - val_loss: 0.2486 - 410ms/epoch - 8ms/step\n",
            "Epoch 53/100\n",
            "53/53 - 0s - loss: 0.2487 - val_loss: 0.2486 - 407ms/epoch - 8ms/step\n",
            "Epoch 54/100\n",
            "53/53 - 0s - loss: 0.2487 - val_loss: 0.2485 - 372ms/epoch - 7ms/step\n",
            "Epoch 55/100\n",
            "53/53 - 0s - loss: 0.2487 - val_loss: 0.2485 - 364ms/epoch - 7ms/step\n",
            "Epoch 56/100\n",
            "53/53 - 0s - loss: 0.2486 - val_loss: 0.2485 - 406ms/epoch - 8ms/step\n",
            "Epoch 57/100\n",
            "53/53 - 0s - loss: 0.2486 - val_loss: 0.2485 - 377ms/epoch - 7ms/step\n",
            "Epoch 58/100\n",
            "53/53 - 0s - loss: 0.2486 - val_loss: 0.2485 - 366ms/epoch - 7ms/step\n",
            "Epoch 59/100\n",
            "53/53 - 0s - loss: 0.2486 - val_loss: 0.2484 - 358ms/epoch - 7ms/step\n",
            "Epoch 60/100\n",
            "53/53 - 0s - loss: 0.2486 - val_loss: 0.2484 - 358ms/epoch - 7ms/step\n",
            "Epoch 61/100\n",
            "53/53 - 0s - loss: 0.2485 - val_loss: 0.2484 - 407ms/epoch - 8ms/step\n",
            "Epoch 62/100\n",
            "53/53 - 0s - loss: 0.2485 - val_loss: 0.2484 - 390ms/epoch - 7ms/step\n",
            "Epoch 63/100\n",
            "53/53 - 0s - loss: 0.2485 - val_loss: 0.2484 - 356ms/epoch - 7ms/step\n",
            "Epoch 64/100\n",
            "53/53 - 0s - loss: 0.2485 - val_loss: 0.2484 - 363ms/epoch - 7ms/step\n",
            "Epoch 65/100\n",
            "53/53 - 0s - loss: 0.2485 - val_loss: 0.2483 - 389ms/epoch - 7ms/step\n",
            "Epoch 66/100\n",
            "53/53 - 0s - loss: 0.2484 - val_loss: 0.2483 - 397ms/epoch - 7ms/step\n",
            "Epoch 67/100\n",
            "53/53 - 0s - loss: 0.2484 - val_loss: 0.2483 - 352ms/epoch - 7ms/step\n",
            "Epoch 68/100\n",
            "53/53 - 0s - loss: 0.2484 - val_loss: 0.2483 - 393ms/epoch - 7ms/step\n",
            "Epoch 69/100\n",
            "53/53 - 0s - loss: 0.2484 - val_loss: 0.2482 - 459ms/epoch - 9ms/step\n",
            "Epoch 70/100\n",
            "53/53 - 1s - loss: 0.2484 - val_loss: 0.2482 - 523ms/epoch - 10ms/step\n",
            "Epoch 71/100\n",
            "53/53 - 1s - loss: 0.2483 - val_loss: 0.2482 - 511ms/epoch - 10ms/step\n",
            "Epoch 72/100\n",
            "53/53 - 1s - loss: 0.2483 - val_loss: 0.2482 - 529ms/epoch - 10ms/step\n",
            "Epoch 73/100\n",
            "53/53 - 0s - loss: 0.2483 - val_loss: 0.2482 - 416ms/epoch - 8ms/step\n",
            "Epoch 74/100\n",
            "53/53 - 0s - loss: 0.2483 - val_loss: 0.2482 - 348ms/epoch - 7ms/step\n",
            "Epoch 75/100\n",
            "53/53 - 0s - loss: 0.2482 - val_loss: 0.2481 - 409ms/epoch - 8ms/step\n",
            "Epoch 76/100\n",
            "53/53 - 0s - loss: 0.2482 - val_loss: 0.2481 - 349ms/epoch - 7ms/step\n",
            "Epoch 77/100\n",
            "53/53 - 0s - loss: 0.2482 - val_loss: 0.2481 - 385ms/epoch - 7ms/step\n",
            "Epoch 78/100\n",
            "53/53 - 0s - loss: 0.2482 - val_loss: 0.2480 - 363ms/epoch - 7ms/step\n",
            "Epoch 79/100\n",
            "53/53 - 0s - loss: 0.2481 - val_loss: 0.2480 - 392ms/epoch - 7ms/step\n",
            "Epoch 80/100\n",
            "53/53 - 0s - loss: 0.2481 - val_loss: 0.2480 - 410ms/epoch - 8ms/step\n",
            "Epoch 81/100\n",
            "53/53 - 0s - loss: 0.2481 - val_loss: 0.2480 - 365ms/epoch - 7ms/step\n",
            "Epoch 82/100\n",
            "53/53 - 0s - loss: 0.2481 - val_loss: 0.2479 - 351ms/epoch - 7ms/step\n",
            "Epoch 83/100\n",
            "53/53 - 0s - loss: 0.2480 - val_loss: 0.2479 - 378ms/epoch - 7ms/step\n",
            "Epoch 84/100\n",
            "53/53 - 0s - loss: 0.2480 - val_loss: 0.2478 - 348ms/epoch - 7ms/step\n",
            "Epoch 85/100\n",
            "53/53 - 0s - loss: 0.2480 - val_loss: 0.2478 - 382ms/epoch - 7ms/step\n",
            "Epoch 86/100\n",
            "53/53 - 0s - loss: 0.2479 - val_loss: 0.2477 - 363ms/epoch - 7ms/step\n",
            "Epoch 87/100\n",
            "53/53 - 0s - loss: 0.2479 - val_loss: 0.2477 - 353ms/epoch - 7ms/step\n",
            "Epoch 88/100\n",
            "53/53 - 0s - loss: 0.2478 - val_loss: 0.2477 - 359ms/epoch - 7ms/step\n",
            "Epoch 89/100\n",
            "53/53 - 0s - loss: 0.2478 - val_loss: 0.2477 - 400ms/epoch - 8ms/step\n",
            "Epoch 90/100\n",
            "53/53 - 0s - loss: 0.2478 - val_loss: 0.2476 - 351ms/epoch - 7ms/step\n",
            "Epoch 91/100\n",
            "53/53 - 0s - loss: 0.2477 - val_loss: 0.2476 - 372ms/epoch - 7ms/step\n",
            "Epoch 92/100\n",
            "53/53 - 0s - loss: 0.2477 - val_loss: 0.2475 - 364ms/epoch - 7ms/step\n",
            "Epoch 93/100\n",
            "53/53 - 0s - loss: 0.2476 - val_loss: 0.2474 - 386ms/epoch - 7ms/step\n",
            "Epoch 94/100\n",
            "53/53 - 0s - loss: 0.2476 - val_loss: 0.2474 - 382ms/epoch - 7ms/step\n",
            "Epoch 95/100\n",
            "53/53 - 0s - loss: 0.2475 - val_loss: 0.2473 - 351ms/epoch - 7ms/step\n",
            "Epoch 96/100\n",
            "53/53 - 0s - loss: 0.2475 - val_loss: 0.2473 - 401ms/epoch - 8ms/step\n",
            "Epoch 97/100\n",
            "53/53 - 0s - loss: 0.2474 - val_loss: 0.2472 - 436ms/epoch - 8ms/step\n",
            "Epoch 98/100\n",
            "53/53 - 1s - loss: 0.2473 - val_loss: 0.2472 - 536ms/epoch - 10ms/step\n",
            "Epoch 99/100\n",
            "53/53 - 1s - loss: 0.2473 - val_loss: 0.2471 - 691ms/epoch - 13ms/step\n",
            "Epoch 100/100\n",
            "53/53 - 1s - loss: 0.2472 - val_loss: 0.2471 - 702ms/epoch - 13ms/step\n",
            "Training Took 41.52516436576843 Secs\n"
          ]
        }
      ]
    },
    {
      "cell_type": "code",
      "metadata": {
        "id": "vSwEQsuKbTBs",
        "colab": {
          "base_uri": "https://localhost:8080/"
        },
        "outputId": "9b5c6211-07c2-4bc0-9cf9-4ec6f5a20909"
      },
      "source": [
        "#encoded_imgs = encoder_l.predict(x_test)\n",
        "encoded_imgs = encoder_vn.predict(x_test)\n",
        "print(\"Reduced Image Representation shape achieved Through Encoder Part: {}\".format(encoded_imgs.shape))\n",
        "#decoded_imgs = decoder_l.predict(encoded_imgs)\n",
        "decoded_imgs = decoder_vn.predict(encoded_imgs)\n",
        "print(\"Recreated image Representation of Shape {} using Decoder and reduced Image representation of shape {}\".format (decoded_imgs.shape, encoded_imgs.shape))\n",
        "n = 10  # how many digits we will display\n",
        "k = 9 #multiplier\n",
        "plt.figure(figsize=(20, 4))\n",
        "for i in range(n):\n",
        "    # display original\n",
        "    ax = plt.subplot(2, n, i + 1)\n",
        "    plt.imshow(x_test[i*k].reshape(28, 28))\n",
        "    plt.gray()\n",
        "    ax.get_xaxis().set_visible(False)\n",
        "    ax.get_yaxis().set_visible(False)\n",
        "\n",
        "    # display reconstruction\n",
        "    ax = plt.subplot(2, n, i + 1 + n)\n",
        "    plt.imshow(decoded_imgs[i*k].reshape(28, 28))\n",
        "    plt.gray()\n",
        "    ax.get_xaxis().set_visible(False)\n",
        "    ax.get_yaxis().set_visible(False)\n",
        "plt.show()"
      ],
      "execution_count": null,
      "outputs": [
        {
          "output_type": "stream",
          "name": "stdout",
          "text": [
            "313/313 [==============================] - 0s 1ms/step\n",
            "Reduced Image Representation shape achieved Through Encoder Part: (10000, 20)\n",
            "313/313 [==============================] - 0s 1ms/step\n",
            "Recreated image Representation of Shape (10000, 784) using Decoder and reduced Image representation of shape (10000, 20)\n"
          ]
        },
        {
          "output_type": "display_data",
          "data": {
            "text/plain": [
              "<Figure size 2000x400 with 20 Axes>"
            ],
            "image/png": "[encoded data removed]"
          },
          "metadata": {}
        }
      ]
    },
    {
      "cell_type": "markdown",
      "metadata": {
        "id": "Yg7-CfeWp5tR"
      },
      "source": [
        "# **Convolutional Autoencoder**"
      ]
    },
    {
      "cell_type": "code",
      "metadata": {
        "id": "qH7qPs0LqmYw"
      },
      "source": [
        "from tensorflow.keras.layers import Input, Conv2D, MaxPooling2D, UpSampling2D, Flatten, Reshape\n",
        "from tensorflow.keras.models import Model"
      ],
      "execution_count": null,
      "outputs": []
    },
    {
      "cell_type": "markdown",
      "source": [
        "## **Architecture of Auto-encoder**"
      ],
      "metadata": {
        "id": "EjePBb6zH6vW"
      }
    },
    {
      "cell_type": "code",
      "metadata": {
        "id": "_DNTFFtTcY-T",
        "colab": {
          "base_uri": "https://localhost:8080/"
        },
        "outputId": "2f75ed95-9987-4152-f060-ac638492d688"
      },
      "source": [
        "input_layer_cnv = Input(shape = (28,28,1))\n",
        "ae_cnv_en = Conv2D (32, (3,3), activation = \"relu\", padding = \"same\", kernel_initializer=\"he_normal\")(input_layer_cnv)\n",
        "ae_cnv_en = MaxPooling2D ((2,2), padding=\"same\")(ae_cnv_en)\n",
        "\n",
        "ae_cnv_en = Conv2D (32, (3,3), activation = \"relu\", padding = \"same\")(ae_cnv_en)\n",
        "ae_cnv_en = MaxPooling2D ((2,2), padding=\"same\")(ae_cnv_en)\n",
        "\n",
        "ae_cnv_en = Conv2D (4, (3,3), activation = \"relu\", padding = \"same\")(ae_cnv_en)\n",
        "ae_cnv_en = MaxPooling2D ((2,2), padding=\"same\")(ae_cnv_en)\n",
        "\n",
        "ae_cnv_en = Flatten(name = \"bot\")(ae_cnv_en)\n",
        "\n",
        "ae_cnv_de = Reshape((4,4,4), input_shape= (64,), name= \"botnext0\")(ae_cnv_en)\n",
        "ae_cnv_de = Conv2D (4, (3,3), activation = \"relu\", padding = \"same\",name= \"botnext1\")(ae_cnv_de)\n",
        "ae_cnv_de = UpSampling2D ((2,2),name= \"botnext2\")(ae_cnv_de)\n",
        "\n",
        "ae_cnv_de = Conv2D (32, (3,3), activation = \"relu\", padding = \"same\", name= \"botnext3\")(ae_cnv_de)\n",
        "ae_cnv_de = UpSampling2D ((2,2), name= \"botnext4\")(ae_cnv_de)\n",
        "\n",
        "ae_cnv_de = Conv2D (32, (3,3), activation = \"relu\", padding = \"valid\",name= \"botnext5\")(ae_cnv_de)\n",
        "ae_cnv_de = UpSampling2D ((2,2), name= \"botnext6\")(ae_cnv_de)\n",
        "\n",
        "ae_cnv_de = Conv2D (1, (3,3), activation = \"sigmoid\", padding = \"same\",name = \"botnext7\")(ae_cnv_de)\n",
        "Ae_Conv = Model(inputs = input_layer_cnv, outputs = ae_cnv_de)\n",
        "\n",
        "Ae_Conv.compile(optimizer=tf.keras.optimizers.SGD(0.09,clipvalue=2.5), loss='binary_crossentropy', metrics = [\"accuracy\"])\n",
        "# Ae_Conv.compile(optimizer=tf.keras.optimizers.Adadelta(0.1,clipvalue=2), loss='binary_crossentropy', metrics = [\"accuracy\"])\n",
        "Ae_Conv.summary()"
      ],
      "execution_count": null,
      "outputs": [
        {
          "output_type": "stream",
          "name": "stdout",
          "text": [
            "Model: \"model_8\"\n",
            "_________________________________________________________________\n",
            " Layer (type)                Output Shape              Param #   \n",
            "=================================================================\n",
            " input_19 (InputLayer)       [(None, 28, 28, 1)]       0         \n",
            "                                                                 \n",
            " conv2d_30 (Conv2D)          (None, 28, 28, 32)        320       \n",
            "                                                                 \n",
            " max_pooling2d_30 (MaxPoolin  (None, 14, 14, 32)       0         \n",
            " g2D)                                                            \n",
            "                                                                 \n",
            " conv2d_31 (Conv2D)          (None, 14, 14, 32)        9248      \n",
            "                                                                 \n",
            " max_pooling2d_31 (MaxPoolin  (None, 7, 7, 32)         0         \n",
            " g2D)                                                            \n",
            "                                                                 \n",
            " conv2d_32 (Conv2D)          (None, 7, 7, 4)           1156      \n",
            "                                                                 \n",
            " max_pooling2d_32 (MaxPoolin  (None, 4, 4, 4)          0         \n",
            " g2D)                                                            \n",
            "                                                                 \n",
            " bot (Flatten)               (None, 64)                0         \n",
            "                                                                 \n",
            " botnext0 (Reshape)          (None, 4, 4, 4)           0         \n",
            "                                                                 \n",
            " botnext1 (Conv2D)           (None, 4, 4, 4)           148       \n",
            "                                                                 \n",
            " botnext2 (UpSampling2D)     (None, 8, 8, 4)           0         \n",
            "                                                                 \n",
            " botnext3 (Conv2D)           (None, 8, 8, 32)          1184      \n",
            "                                                                 \n",
            " botnext4 (UpSampling2D)     (None, 16, 16, 32)        0         \n",
            "                                                                 \n",
            " botnext5 (Conv2D)           (None, 14, 14, 32)        9248      \n",
            "                                                                 \n",
            " botnext6 (UpSampling2D)     (None, 28, 28, 32)        0         \n",
            "                                                                 \n",
            " botnext7 (Conv2D)           (None, 28, 28, 1)         289       \n",
            "                                                                 \n",
            "=================================================================\n",
            "Total params: 21,593\n",
            "Trainable params: 21,593\n",
            "Non-trainable params: 0\n",
            "_________________________________________________________________\n"
          ]
        }
      ]
    },
    {
      "cell_type": "markdown",
      "source": [
        "## **Encoder**"
      ],
      "metadata": {
        "id": "RAU53EleIcCe"
      }
    },
    {
      "cell_type": "code",
      "source": [
        "ae_conv_encoder = Model (inputs = input_layer_cnv, outputs = Ae_Conv.get_layer(\"bot\").output, name = \"Conv_AE_encoder\")\n",
        "ae_conv_encoder.summary()"
      ],
      "metadata": {
        "colab": {
          "base_uri": "https://localhost:8080/"
        },
        "id": "8b0BC9jAIf8g",
        "outputId": "26d1cbf1-a18c-4421-e9f5-020fe12e110c"
      },
      "execution_count": null,
      "outputs": [
        {
          "output_type": "stream",
          "name": "stdout",
          "text": [
            "Model: \"Conv_AE_encoder\"\n",
            "_________________________________________________________________\n",
            " Layer (type)                Output Shape              Param #   \n",
            "=================================================================\n",
            " input_19 (InputLayer)       [(None, 28, 28, 1)]       0         \n",
            "                                                                 \n",
            " conv2d_30 (Conv2D)          (None, 28, 28, 32)        320       \n",
            "                                                                 \n",
            " max_pooling2d_30 (MaxPoolin  (None, 14, 14, 32)       0         \n",
            " g2D)                                                            \n",
            "                                                                 \n",
            " conv2d_31 (Conv2D)          (None, 14, 14, 32)        9248      \n",
            "                                                                 \n",
            " max_pooling2d_31 (MaxPoolin  (None, 7, 7, 32)         0         \n",
            " g2D)                                                            \n",
            "                                                                 \n",
            " conv2d_32 (Conv2D)          (None, 7, 7, 4)           1156      \n",
            "                                                                 \n",
            " max_pooling2d_32 (MaxPoolin  (None, 4, 4, 4)          0         \n",
            " g2D)                                                            \n",
            "                                                                 \n",
            " bot (Flatten)               (None, 64)                0         \n",
            "                                                                 \n",
            "=================================================================\n",
            "Total params: 10,724\n",
            "Trainable params: 10,724\n",
            "Non-trainable params: 0\n",
            "_________________________________________________________________\n"
          ]
        }
      ]
    },
    {
      "cell_type": "markdown",
      "source": [
        "## **Decoder**"
      ],
      "metadata": {
        "id": "q_B84YqpIic1"
      }
    },
    {
      "cell_type": "code",
      "metadata": {
        "id": "yRsiZYR8sMFC",
        "colab": {
          "base_uri": "https://localhost:8080/"
        },
        "outputId": "5c34d5f9-8596-47c2-c626-37f08bb82147"
      },
      "source": [
        "# Traversing through the Layers of Decoder using Loop\n",
        "\n",
        "encode_inp_cnv = Input(shape = (64,))\n",
        "tmp_dec = Ae_Conv.get_layer(\"botnext0\")(encode_inp_cnv)\n",
        "for i in range(1,8):\n",
        "  st = \"botnext{}\".format(i)\n",
        "  tmp_dec = Ae_Conv.get_layer(st)(tmp_dec)\n",
        "\n",
        "ae_conv_decoder = Model(inputs = encode_inp_cnv, outputs = tmp_dec, name= \"Conv_AE_decoder\")\n",
        "ae_conv_decoder.summary()\n",
        "\n"
      ],
      "execution_count": null,
      "outputs": [
        {
          "output_type": "stream",
          "name": "stdout",
          "text": [
            "Model: \"Conv_AE_decoder\"\n",
            "_________________________________________________________________\n",
            " Layer (type)                Output Shape              Param #   \n",
            "=================================================================\n",
            " input_20 (InputLayer)       [(None, 64)]              0         \n",
            "                                                                 \n",
            " botnext0 (Reshape)          (None, 4, 4, 4)           0         \n",
            "                                                                 \n",
            " botnext1 (Conv2D)           (None, 4, 4, 4)           148       \n",
            "                                                                 \n",
            " botnext2 (UpSampling2D)     (None, 8, 8, 4)           0         \n",
            "                                                                 \n",
            " botnext3 (Conv2D)           (None, 8, 8, 32)          1184      \n",
            "                                                                 \n",
            " botnext4 (UpSampling2D)     (None, 16, 16, 32)        0         \n",
            "                                                                 \n",
            " botnext5 (Conv2D)           (None, 14, 14, 32)        9248      \n",
            "                                                                 \n",
            " botnext6 (UpSampling2D)     (None, 28, 28, 32)        0         \n",
            "                                                                 \n",
            " botnext7 (Conv2D)           (None, 28, 28, 1)         289       \n",
            "                                                                 \n",
            "=================================================================\n",
            "Total params: 10,869\n",
            "Trainable params: 10,869\n",
            "Non-trainable params: 0\n",
            "_________________________________________________________________\n"
          ]
        }
      ]
    },
    {
      "cell_type": "markdown",
      "source": [
        "## **Reshapping the Data**"
      ],
      "metadata": {
        "id": "ixSW1s3GUfGc"
      }
    },
    {
      "cell_type": "code",
      "metadata": {
        "id": "uFkgdJ938QpR",
        "colab": {
          "base_uri": "https://localhost:8080/"
        },
        "outputId": "9095e549-37cf-4697-be89-cdcb4bbd25f5"
      },
      "source": [
        "x_train = x_train.reshape(x_train.shape[0], 28,28,1)\n",
        "x_test = x_test.reshape(x_test.shape[0], 28,28,1)\n",
        "print(x_train.shape, x_test.shape)"
      ],
      "execution_count": null,
      "outputs": [
        {
          "output_type": "stream",
          "name": "stdout",
          "text": [
            "(60000, 28, 28, 1) (10000, 28, 28, 1)\n"
          ]
        }
      ]
    },
    {
      "cell_type": "markdown",
      "source": [
        "## **Training the Auto Encoders**"
      ],
      "metadata": {
        "id": "4erF7EpDUi37"
      }
    },
    {
      "cell_type": "code",
      "metadata": {
        "id": "LSReB9ia3EY6",
        "colab": {
          "base_uri": "https://localhost:8080/"
        },
        "outputId": "bca2049a-b31a-4ab8-bafe-08c65b1aec02"
      },
      "source": [
        "from time import time\n",
        "tic = time()\n",
        "Ae_Conv.fit(x_train, x_train,\n",
        "                epochs=100,\n",
        "                verbose=2,\n",
        "                batch_size=1024,\n",
        "                shuffle=False, validation_split = 0.1)\n",
        "                #validation_data=(x_test, x_test))\n",
        "toc = time()\n",
        "print(\"Training Took {} Secs\".format(toc-tic))"
      ],
      "execution_count": null,
      "outputs": [
        {
          "output_type": "stream",
          "name": "stdout",
          "text": [
            "Epoch 1/100\n",
            "53/53 - 4s - loss: 0.4303 - accuracy: 0.7923 - val_loss: 0.3141 - val_accuracy: 0.8088 - 4s/epoch - 71ms/step\n",
            "Epoch 2/100\n",
            "53/53 - 2s - loss: 0.2695 - accuracy: 0.8011 - val_loss: 0.2577 - val_accuracy: 0.7744 - 2s/epoch - 29ms/step\n",
            "Epoch 3/100\n",
            "53/53 - 2s - loss: 0.2346 - accuracy: 0.7895 - val_loss: 0.2278 - val_accuracy: 0.8025 - 2s/epoch - 29ms/step\n",
            "Epoch 4/100\n",
            "53/53 - 2s - loss: 0.2219 - accuracy: 0.7878 - val_loss: 0.2192 - val_accuracy: 0.7824 - 2s/epoch - 29ms/step\n",
            "Epoch 5/100\n",
            "53/53 - 2s - loss: 0.2148 - accuracy: 0.7874 - val_loss: 0.2131 - val_accuracy: 0.7999 - 2s/epoch - 30ms/step\n",
            "Epoch 6/100\n",
            "53/53 - 2s - loss: 0.2085 - accuracy: 0.7888 - val_loss: 0.2062 - val_accuracy: 0.7869 - 2s/epoch - 29ms/step\n",
            "Epoch 7/100\n",
            "53/53 - 2s - loss: 0.2048 - accuracy: 0.7898 - val_loss: 0.2045 - val_accuracy: 0.8013 - 2s/epoch - 31ms/step\n",
            "Epoch 8/100\n",
            "53/53 - 2s - loss: 0.2003 - accuracy: 0.7910 - val_loss: 0.2000 - val_accuracy: 0.7867 - 2s/epoch - 30ms/step\n",
            "Epoch 9/100\n",
            "53/53 - 2s - loss: 0.1979 - accuracy: 0.7914 - val_loss: 0.1978 - val_accuracy: 0.8020 - 2s/epoch - 29ms/step\n",
            "Epoch 10/100\n",
            "53/53 - 2s - loss: 0.1939 - accuracy: 0.7925 - val_loss: 0.1945 - val_accuracy: 0.7871 - 2s/epoch - 30ms/step\n",
            "Epoch 11/100\n",
            "53/53 - 2s - loss: 0.1924 - accuracy: 0.7927 - val_loss: 0.1920 - val_accuracy: 0.8024 - 2s/epoch - 29ms/step\n",
            "Epoch 12/100\n",
            "53/53 - 2s - loss: 0.1885 - accuracy: 0.7937 - val_loss: 0.1888 - val_accuracy: 0.7891 - 2s/epoch - 31ms/step\n",
            "Epoch 13/100\n",
            "53/53 - 2s - loss: 0.1875 - accuracy: 0.7939 - val_loss: 0.1871 - val_accuracy: 0.8028 - 2s/epoch - 29ms/step\n",
            "Epoch 14/100\n",
            "53/53 - 2s - loss: 0.1836 - accuracy: 0.7949 - val_loss: 0.1819 - val_accuracy: 0.7932 - 2s/epoch - 31ms/step\n",
            "Epoch 15/100\n",
            "53/53 - 2s - loss: 0.1832 - accuracy: 0.7949 - val_loss: 0.1827 - val_accuracy: 0.8032 - 2s/epoch - 32ms/step\n",
            "Epoch 16/100\n",
            "53/53 - 2s - loss: 0.1793 - accuracy: 0.7958 - val_loss: 0.1765 - val_accuracy: 0.7963 - 2s/epoch - 29ms/step\n",
            "Epoch 17/100\n",
            "53/53 - 2s - loss: 0.1791 - accuracy: 0.7959 - val_loss: 0.1787 - val_accuracy: 0.8037 - 2s/epoch - 31ms/step\n",
            "Epoch 18/100\n",
            "53/53 - 2s - loss: 0.1755 - accuracy: 0.7967 - val_loss: 0.1722 - val_accuracy: 0.7990 - 2s/epoch - 29ms/step\n",
            "Epoch 19/100\n",
            "53/53 - 2s - loss: 0.1752 - accuracy: 0.7967 - val_loss: 0.1754 - val_accuracy: 0.8043 - 2s/epoch - 29ms/step\n",
            "Epoch 20/100\n",
            "53/53 - 2s - loss: 0.1721 - accuracy: 0.7975 - val_loss: 0.1689 - val_accuracy: 0.8005 - 2s/epoch - 31ms/step\n",
            "Epoch 21/100\n",
            "53/53 - 2s - loss: 0.1718 - accuracy: 0.7975 - val_loss: 0.1723 - val_accuracy: 0.8047 - 2s/epoch - 29ms/step\n",
            "Epoch 22/100\n",
            "53/53 - 2s - loss: 0.1691 - accuracy: 0.7981 - val_loss: 0.1659 - val_accuracy: 0.8017 - 2s/epoch - 30ms/step\n",
            "Epoch 23/100\n",
            "53/53 - 2s - loss: 0.1678 - accuracy: 0.7983 - val_loss: 0.1668 - val_accuracy: 0.8043 - 2s/epoch - 30ms/step\n",
            "Epoch 24/100\n",
            "53/53 - 2s - loss: 0.1671 - accuracy: 0.7985 - val_loss: 0.1634 - val_accuracy: 0.8008 - 2s/epoch - 30ms/step\n",
            "Epoch 25/100\n",
            "53/53 - 2s - loss: 0.1663 - accuracy: 0.7987 - val_loss: 0.1672 - val_accuracy: 0.8056 - 2s/epoch - 29ms/step\n",
            "Epoch 26/100\n",
            "53/53 - 2s - loss: 0.1635 - accuracy: 0.7993 - val_loss: 0.1611 - val_accuracy: 0.8035 - 2s/epoch - 29ms/step\n",
            "Epoch 27/100\n",
            "53/53 - 2s - loss: 0.1627 - accuracy: 0.7994 - val_loss: 0.1597 - val_accuracy: 0.8022 - 2s/epoch - 31ms/step\n",
            "Epoch 28/100\n",
            "53/53 - 2s - loss: 0.1625 - accuracy: 0.7994 - val_loss: 0.1639 - val_accuracy: 0.8061 - 2s/epoch - 29ms/step\n",
            "Epoch 29/100\n",
            "53/53 - 2s - loss: 0.1601 - accuracy: 0.7999 - val_loss: 0.1590 - val_accuracy: 0.8049 - 2s/epoch - 30ms/step\n",
            "Epoch 30/100\n",
            "53/53 - 2s - loss: 0.1597 - accuracy: 0.7999 - val_loss: 0.1573 - val_accuracy: 0.8044 - 2s/epoch - 31ms/step\n",
            "Epoch 31/100\n",
            "53/53 - 2s - loss: 0.1587 - accuracy: 0.8001 - val_loss: 0.1564 - val_accuracy: 0.8045 - 2s/epoch - 32ms/step\n",
            "Epoch 32/100\n",
            "53/53 - 2s - loss: 0.1578 - accuracy: 0.8003 - val_loss: 0.1559 - val_accuracy: 0.8050 - 2s/epoch - 31ms/step\n",
            "Epoch 33/100\n",
            "53/53 - 2s - loss: 0.1570 - accuracy: 0.8005 - val_loss: 0.1551 - val_accuracy: 0.8051 - 2s/epoch - 31ms/step\n",
            "Epoch 34/100\n",
            "53/53 - 2s - loss: 0.1562 - accuracy: 0.8006 - val_loss: 0.1545 - val_accuracy: 0.8054 - 2s/epoch - 30ms/step\n",
            "Epoch 35/100\n",
            "53/53 - 2s - loss: 0.1554 - accuracy: 0.8008 - val_loss: 0.1543 - val_accuracy: 0.8058 - 2s/epoch - 30ms/step\n",
            "Epoch 36/100\n",
            "53/53 - 2s - loss: 0.1547 - accuracy: 0.8010 - val_loss: 0.1547 - val_accuracy: 0.8064 - 2s/epoch - 29ms/step\n",
            "Epoch 37/100\n",
            "53/53 - 2s - loss: 0.1539 - accuracy: 0.8011 - val_loss: 0.1548 - val_accuracy: 0.8068 - 2s/epoch - 31ms/step\n",
            "Epoch 38/100\n",
            "53/53 - 2s - loss: 0.1533 - accuracy: 0.8013 - val_loss: 0.1555 - val_accuracy: 0.8073 - 2s/epoch - 32ms/step\n",
            "Epoch 39/100\n",
            "53/53 - 2s - loss: 0.1526 - accuracy: 0.8014 - val_loss: 0.1558 - val_accuracy: 0.8076 - 2s/epoch - 30ms/step\n",
            "Epoch 40/100\n",
            "53/53 - 2s - loss: 0.1519 - accuracy: 0.8016 - val_loss: 0.1559 - val_accuracy: 0.8078 - 2s/epoch - 30ms/step\n",
            "Epoch 41/100\n",
            "53/53 - 2s - loss: 0.1513 - accuracy: 0.8017 - val_loss: 0.1558 - val_accuracy: 0.8080 - 2s/epoch - 31ms/step\n",
            "Epoch 42/100\n",
            "53/53 - 2s - loss: 0.1507 - accuracy: 0.8019 - val_loss: 0.1555 - val_accuracy: 0.8082 - 2s/epoch - 30ms/step\n",
            "Epoch 43/100\n",
            "53/53 - 2s - loss: 0.1502 - accuracy: 0.8020 - val_loss: 0.1554 - val_accuracy: 0.8083 - 2s/epoch - 30ms/step\n",
            "Epoch 44/100\n",
            "53/53 - 2s - loss: 0.1496 - accuracy: 0.8021 - val_loss: 0.1552 - val_accuracy: 0.8085 - 2s/epoch - 30ms/step\n",
            "Epoch 45/100\n",
            "53/53 - 2s - loss: 0.1491 - accuracy: 0.8023 - val_loss: 0.1549 - val_accuracy: 0.8086 - 2s/epoch - 31ms/step\n",
            "Epoch 46/100\n",
            "53/53 - 2s - loss: 0.1485 - accuracy: 0.8024 - val_loss: 0.1546 - val_accuracy: 0.8087 - 2s/epoch - 31ms/step\n",
            "Epoch 47/100\n",
            "53/53 - 2s - loss: 0.1480 - accuracy: 0.8025 - val_loss: 0.1543 - val_accuracy: 0.8088 - 2s/epoch - 31ms/step\n",
            "Epoch 48/100\n",
            "53/53 - 2s - loss: 0.1475 - accuracy: 0.8026 - val_loss: 0.1540 - val_accuracy: 0.8089 - 2s/epoch - 31ms/step\n",
            "Epoch 49/100\n",
            "53/53 - 2s - loss: 0.1470 - accuracy: 0.8027 - val_loss: 0.1536 - val_accuracy: 0.8089 - 2s/epoch - 30ms/step\n",
            "Epoch 50/100\n",
            "53/53 - 2s - loss: 0.1466 - accuracy: 0.8028 - val_loss: 0.1532 - val_accuracy: 0.8090 - 2s/epoch - 30ms/step\n",
            "Epoch 51/100\n",
            "53/53 - 2s - loss: 0.1461 - accuracy: 0.8029 - val_loss: 0.1529 - val_accuracy: 0.8091 - 2s/epoch - 31ms/step\n",
            "Epoch 52/100\n",
            "53/53 - 2s - loss: 0.1457 - accuracy: 0.8030 - val_loss: 0.1525 - val_accuracy: 0.8091 - 2s/epoch - 32ms/step\n",
            "Epoch 53/100\n",
            "53/53 - 2s - loss: 0.1452 - accuracy: 0.8032 - val_loss: 0.1522 - val_accuracy: 0.8092 - 2s/epoch - 31ms/step\n",
            "Epoch 54/100\n",
            "53/53 - 2s - loss: 0.1448 - accuracy: 0.8033 - val_loss: 0.1518 - val_accuracy: 0.8093 - 2s/epoch - 32ms/step\n",
            "Epoch 55/100\n",
            "53/53 - 2s - loss: 0.1443 - accuracy: 0.8034 - val_loss: 0.1515 - val_accuracy: 0.8093 - 2s/epoch - 30ms/step\n",
            "Epoch 56/100\n",
            "53/53 - 2s - loss: 0.1439 - accuracy: 0.8035 - val_loss: 0.1512 - val_accuracy: 0.8094 - 2s/epoch - 31ms/step\n",
            "Epoch 57/100\n",
            "53/53 - 2s - loss: 0.1434 - accuracy: 0.8036 - val_loss: 0.1508 - val_accuracy: 0.8095 - 2s/epoch - 31ms/step\n",
            "Epoch 58/100\n",
            "53/53 - 2s - loss: 0.1431 - accuracy: 0.8037 - val_loss: 0.1505 - val_accuracy: 0.8095 - 2s/epoch - 30ms/step\n",
            "Epoch 59/100\n",
            "53/53 - 2s - loss: 0.1427 - accuracy: 0.8038 - val_loss: 0.1502 - val_accuracy: 0.8096 - 2s/epoch - 30ms/step\n",
            "Epoch 60/100\n",
            "53/53 - 2s - loss: 0.1423 - accuracy: 0.8039 - val_loss: 0.1496 - val_accuracy: 0.8096 - 2s/epoch - 32ms/step\n",
            "Epoch 61/100\n",
            "53/53 - 2s - loss: 0.1419 - accuracy: 0.8040 - val_loss: 0.1494 - val_accuracy: 0.8097 - 2s/epoch - 31ms/step\n",
            "Epoch 62/100\n",
            "53/53 - 2s - loss: 0.1415 - accuracy: 0.8041 - val_loss: 0.1488 - val_accuracy: 0.8097 - 2s/epoch - 31ms/step\n",
            "Epoch 63/100\n",
            "53/53 - 2s - loss: 0.1411 - accuracy: 0.8041 - val_loss: 0.1482 - val_accuracy: 0.8097 - 2s/epoch - 30ms/step\n",
            "Epoch 64/100\n",
            "53/53 - 2s - loss: 0.1407 - accuracy: 0.8043 - val_loss: 0.1471 - val_accuracy: 0.8096 - 2s/epoch - 31ms/step\n",
            "Epoch 65/100\n",
            "53/53 - 2s - loss: 0.1403 - accuracy: 0.8043 - val_loss: 0.1461 - val_accuracy: 0.8096 - 2s/epoch - 30ms/step\n",
            "Epoch 66/100\n",
            "53/53 - 2s - loss: 0.1400 - accuracy: 0.8044 - val_loss: 0.1449 - val_accuracy: 0.8095 - 2s/epoch - 30ms/step\n",
            "Epoch 67/100\n",
            "53/53 - 2s - loss: 0.1397 - accuracy: 0.8045 - val_loss: 0.1444 - val_accuracy: 0.8095 - 2s/epoch - 31ms/step\n",
            "Epoch 68/100\n",
            "53/53 - 2s - loss: 0.1393 - accuracy: 0.8046 - val_loss: 0.1424 - val_accuracy: 0.8093 - 2s/epoch - 32ms/step\n",
            "Epoch 69/100\n",
            "53/53 - 2s - loss: 0.1389 - accuracy: 0.8047 - val_loss: 0.1409 - val_accuracy: 0.8091 - 2s/epoch - 30ms/step\n",
            "Epoch 70/100\n",
            "53/53 - 2s - loss: 0.1386 - accuracy: 0.8048 - val_loss: 0.1385 - val_accuracy: 0.8086 - 2s/epoch - 31ms/step\n",
            "Epoch 71/100\n",
            "53/53 - 2s - loss: 0.1383 - accuracy: 0.8048 - val_loss: 0.1365 - val_accuracy: 0.8079 - 2s/epoch - 30ms/step\n",
            "Epoch 72/100\n",
            "53/53 - 2s - loss: 0.1379 - accuracy: 0.8049 - val_loss: 0.1351 - val_accuracy: 0.8071 - 2s/epoch - 31ms/step\n",
            "Epoch 73/100\n",
            "53/53 - 2s - loss: 0.1376 - accuracy: 0.8049 - val_loss: 0.1416 - val_accuracy: 0.8097 - 2s/epoch - 30ms/step\n",
            "Epoch 74/100\n",
            "53/53 - 2s - loss: 0.1372 - accuracy: 0.8051 - val_loss: 0.1365 - val_accuracy: 0.8085 - 2s/epoch - 31ms/step\n",
            "Epoch 75/100\n",
            "53/53 - 2s - loss: 0.1371 - accuracy: 0.8051 - val_loss: 0.1340 - val_accuracy: 0.8058 - 2s/epoch - 32ms/step\n",
            "Epoch 76/100\n",
            "53/53 - 2s - loss: 0.1376 - accuracy: 0.8051 - val_loss: 0.1387 - val_accuracy: 0.8095 - 2s/epoch - 31ms/step\n",
            "Epoch 77/100\n",
            "53/53 - 2s - loss: 0.1359 - accuracy: 0.8054 - val_loss: 0.1411 - val_accuracy: 0.8099 - 2s/epoch - 30ms/step\n",
            "Epoch 78/100\n",
            "53/53 - 2s - loss: 0.1359 - accuracy: 0.8054 - val_loss: 0.1333 - val_accuracy: 0.8072 - 2s/epoch - 31ms/step\n",
            "Epoch 79/100\n",
            "53/53 - 2s - loss: 0.1355 - accuracy: 0.8054 - val_loss: 0.1365 - val_accuracy: 0.8093 - 2s/epoch - 31ms/step\n",
            "Epoch 80/100\n",
            "53/53 - 2s - loss: 0.1355 - accuracy: 0.8055 - val_loss: 0.1335 - val_accuracy: 0.8080 - 2s/epoch - 31ms/step\n",
            "Epoch 81/100\n",
            "53/53 - 2s - loss: 0.1355 - accuracy: 0.8055 - val_loss: 0.1330 - val_accuracy: 0.8050 - 2s/epoch - 30ms/step\n",
            "Epoch 82/100\n",
            "53/53 - 2s - loss: 0.1357 - accuracy: 0.8055 - val_loss: 0.1368 - val_accuracy: 0.8097 - 2s/epoch - 30ms/step\n",
            "Epoch 83/100\n",
            "53/53 - 2s - loss: 0.1341 - accuracy: 0.8058 - val_loss: 0.1384 - val_accuracy: 0.8098 - 2s/epoch - 32ms/step\n",
            "Epoch 84/100\n",
            "53/53 - 2s - loss: 0.1343 - accuracy: 0.8058 - val_loss: 0.1316 - val_accuracy: 0.8067 - 2s/epoch - 30ms/step\n",
            "Epoch 85/100\n",
            "53/53 - 2s - loss: 0.1349 - accuracy: 0.8057 - val_loss: 0.1355 - val_accuracy: 0.8097 - 2s/epoch - 30ms/step\n",
            "Epoch 86/100\n",
            "53/53 - 2s - loss: 0.1331 - accuracy: 0.8060 - val_loss: 0.1340 - val_accuracy: 0.8090 - 2s/epoch - 30ms/step\n",
            "Epoch 87/100\n",
            "53/53 - 2s - loss: 0.1338 - accuracy: 0.8059 - val_loss: 0.1309 - val_accuracy: 0.8061 - 2s/epoch - 30ms/step\n",
            "Epoch 88/100\n",
            "53/53 - 2s - loss: 0.1341 - accuracy: 0.8058 - val_loss: 0.1347 - val_accuracy: 0.8098 - 2s/epoch - 31ms/step\n",
            "Epoch 89/100\n",
            "53/53 - 2s - loss: 0.1326 - accuracy: 0.8061 - val_loss: 0.1352 - val_accuracy: 0.8097 - 2s/epoch - 31ms/step\n",
            "Epoch 90/100\n",
            "53/53 - 2s - loss: 0.1328 - accuracy: 0.8061 - val_loss: 0.1302 - val_accuracy: 0.8068 - 2s/epoch - 32ms/step\n",
            "Epoch 91/100\n",
            "53/53 - 2s - loss: 0.1333 - accuracy: 0.8060 - val_loss: 0.1336 - val_accuracy: 0.8098 - 2s/epoch - 31ms/step\n",
            "Epoch 92/100\n",
            "53/53 - 2s - loss: 0.1316 - accuracy: 0.8064 - val_loss: 0.1307 - val_accuracy: 0.8080 - 2s/epoch - 30ms/step\n",
            "Epoch 93/100\n",
            "53/53 - 2s - loss: 0.1324 - accuracy: 0.8062 - val_loss: 0.1296 - val_accuracy: 0.8059 - 2s/epoch - 31ms/step\n",
            "Epoch 94/100\n",
            "53/53 - 2s - loss: 0.1324 - accuracy: 0.8062 - val_loss: 0.1330 - val_accuracy: 0.8099 - 2s/epoch - 30ms/step\n",
            "Epoch 95/100\n",
            "53/53 - 2s - loss: 0.1312 - accuracy: 0.8064 - val_loss: 0.1317 - val_accuracy: 0.8092 - 2s/epoch - 30ms/step\n",
            "Epoch 96/100\n",
            "53/53 - 2s - loss: 0.1317 - accuracy: 0.8064 - val_loss: 0.1290 - val_accuracy: 0.8064 - 2s/epoch - 30ms/step\n",
            "Epoch 97/100\n",
            "53/53 - 2s - loss: 0.1317 - accuracy: 0.8063 - val_loss: 0.1321 - val_accuracy: 0.8099 - 2s/epoch - 31ms/step\n",
            "Epoch 98/100\n",
            "53/53 - 2s - loss: 0.1305 - accuracy: 0.8066 - val_loss: 0.1292 - val_accuracy: 0.8083 - 2s/epoch - 32ms/step\n",
            "Epoch 99/100\n",
            "53/53 - 2s - loss: 0.1310 - accuracy: 0.8065 - val_loss: 0.1284 - val_accuracy: 0.8061 - 2s/epoch - 32ms/step\n",
            "Epoch 100/100\n",
            "53/53 - 2s - loss: 0.1310 - accuracy: 0.8065 - val_loss: 0.1314 - val_accuracy: 0.8099 - 2s/epoch - 31ms/step\n",
            "Training Took 203.87296795845032 Secs\n"
          ]
        }
      ]
    },
    {
      "cell_type": "markdown",
      "source": [
        "## **Passing image to Encoder**"
      ],
      "metadata": {
        "id": "-XmTJnCiUo6a"
      }
    },
    {
      "cell_type": "code",
      "metadata": {
        "id": "b3YyqUDW7sCP",
        "colab": {
          "base_uri": "https://localhost:8080/"
        },
        "outputId": "4e2ed3aa-1593-416f-ca80-e0fbed523b46"
      },
      "source": [
        "encoded_imgs = ae_conv_encoder.predict(x_test)\n",
        "#encoded_imgs = ae_conv_encoder.predict(x_train[0:100])\n",
        "print (encoded_imgs.shape)"
      ],
      "execution_count": null,
      "outputs": [
        {
          "output_type": "stream",
          "name": "stdout",
          "text": [
            "313/313 [==============================] - 1s 2ms/step\n",
            "(10000, 64)\n"
          ]
        }
      ]
    },
    {
      "cell_type": "markdown",
      "source": [
        "## **Passing Compressed image Features to Decoder**"
      ],
      "metadata": {
        "id": "wNW1gOfPUsCT"
      }
    },
    {
      "cell_type": "code",
      "metadata": {
        "id": "yoaYOuNq_Pus",
        "colab": {
          "base_uri": "https://localhost:8080/",
          "height": 238
        },
        "outputId": "206a41b8-e12c-4a3f-8627-48c0944cf391"
      },
      "source": [
        "#decoded_imgs = ae_conv_decoder.predict(encoded_imgs)\n",
        "decoded_imgs = ae_conv_decoder.predict(encoded_imgs)\n",
        "\n",
        "deoceded_images = Ae_Conv.predict(x_test)\n",
        "print(\"Recreated image Representation of Shape {} using Decoder and reduced Image representation of shape {}\".format (decoded_imgs.shape,\n",
        "                                                                                                                      encoded_imgs.shape))\n",
        "n = 10  # how many digits we will display\n",
        "k= 12 # multiplier\n",
        "plt.figure(figsize=(20, 4))\n",
        "for i in range(n):\n",
        "    # display original\n",
        "    ax = plt.subplot(2, n, i + 1)\n",
        "    plt.imshow(x_test[i*k].reshape(28, 28))\n",
        "    plt.gray()\n",
        "    ax.get_xaxis().set_visible(False)\n",
        "    ax.get_yaxis().set_visible(False)\n",
        "\n",
        "    # display reconstruction\n",
        "    ax = plt.subplot(2, n, i + 1 + n)\n",
        "    plt.imshow(decoded_imgs[i*k].reshape(28, 28))\n",
        "    plt.gray()\n",
        "    ax.get_xaxis().set_visible(False)\n",
        "    ax.get_yaxis().set_visible(False)\n",
        "plt.show()"
      ],
      "execution_count": null,
      "outputs": [
        {
          "output_type": "stream",
          "name": "stdout",
          "text": [
            "313/313 [==============================] - 1s 2ms/step\n",
            "313/313 [==============================] - 1s 2ms/step\n",
            "Recreated image Representation of Shape (10000, 28, 28, 1) using Decoder and reduced Image representation of shape (10000, 64)\n"
          ]
        },
        {
          "output_type": "display_data",
          "data": {
            "text/plain": [
              "<Figure size 2000x400 with 20 Axes>"
            ],
            "image/png": "[encoded data removed]"
          },
          "metadata": {}
        }
      ]
    },
    {
      "cell_type": "code",
      "source": [
        "deoceded_images = Ae_Conv.predict(x_test)\n",
        "print(\"Recreated image Representation of Shape {} using Decoder and reduced Image representation of shape {}\".format (deoceded_images.shape,\n",
        "                                                                                                                      deoceded_images.shape))\n",
        "n = 10  # how many digits we will display\n",
        "k= 12 # multiplier\n",
        "plt.figure(figsize=(20, 4))\n",
        "for i in range(n):\n",
        "    # display original\n",
        "    ax = plt.subplot(2, n, i + 1)\n",
        "    plt.imshow(x_test[i*k].reshape(28, 28))\n",
        "    plt.gray()\n",
        "    ax.get_xaxis().set_visible(False)\n",
        "    ax.get_yaxis().set_visible(False)\n",
        "\n",
        "    # display reconstruction\n",
        "    ax = plt.subplot(2, n, i + 1 + n)\n",
        "    plt.imshow(deoceded_images[i*k].reshape(28, 28))\n",
        "    plt.gray()\n",
        "    ax.get_xaxis().set_visible(False)\n",
        "    ax.get_yaxis().set_visible(False)\n",
        "plt.show()"
      ],
      "metadata": {
        "colab": {
          "base_uri": "https://localhost:8080/",
          "height": 221
        },
        "id": "4nHxTPXIm-b_",
        "outputId": "a597b2d4-6736-4bbf-e9f8-143fafd1df26"
      },
      "execution_count": null,
      "outputs": [
        {
          "output_type": "stream",
          "name": "stdout",
          "text": [
            "313/313 [==============================] - 1s 2ms/step\n",
            "Recreated image Representation of Shape (10000, 28, 28, 1) using Decoder and reduced Image representation of shape (10000, 28, 28, 1)\n"
          ]
        },
        {
          "output_type": "display_data",
          "data": {
            "text/plain": [
              "<Figure size 2000x400 with 20 Axes>"
            ],
            "image/png": "[encoded data removed]"
          },
          "metadata": {}
        }
      ]
    },
    {
      "cell_type": "markdown",
      "metadata": {
        "id": "VyY-jMBHDEXh"
      },
      "source": [
        "# **Denoising Autoencoder**"
      ]
    },
    {
      "cell_type": "code",
      "metadata": {
        "id": "ne-49p51_XGP",
        "colab": {
          "base_uri": "https://localhost:8080/"
        },
        "outputId": "f40302d3-bf12-4c02-e3c0-d7bfcec14b14"
      },
      "source": [
        "print (x_train.shape)\n",
        "print (x_test.shape)"
      ],
      "execution_count": null,
      "outputs": [
        {
          "output_type": "stream",
          "name": "stdout",
          "text": [
            "(60000, 28, 28, 1)\n",
            "(10000, 28, 28, 1)\n"
          ]
        }
      ]
    },
    {
      "cell_type": "markdown",
      "source": [
        "## **Adding Noise to the Data**"
      ],
      "metadata": {
        "id": "MNG5Ht1qU1jr"
      }
    },
    {
      "cell_type": "code",
      "metadata": {
        "id": "nObCJvrhAbku",
        "colab": {
          "base_uri": "https://localhost:8080/"
        },
        "outputId": "5de9a2dd-171f-4d8b-b289-93088f79b22a"
      },
      "source": [
        "# Create Noisy Data\n",
        "noise_factor = 0.5\n",
        "x_train_noisy = x_train + noise_factor * np.random.normal(loc=0.0, scale=1.0, size=x_train.shape)\n",
        "x_test_noisy = x_test + noise_factor * np.random.normal(loc=0.0, scale=1.0, size=x_test.shape)\n",
        "\n",
        "x_train_noisy = np.clip(x_train_noisy, 0., 1.)\n",
        "x_test_noisy = np.clip(x_test_noisy, 0., 1.)\n",
        "print(x_train_noisy.shape,x_test_noisy.shape )"
      ],
      "execution_count": null,
      "outputs": [
        {
          "output_type": "stream",
          "name": "stdout",
          "text": [
            "(60000, 28, 28, 1) (10000, 28, 28, 1)\n"
          ]
        }
      ]
    },
    {
      "cell_type": "markdown",
      "source": [
        "## **Displaying the Noisy Data**"
      ],
      "metadata": {
        "id": "AwEehoyYU4DD"
      }
    },
    {
      "cell_type": "code",
      "metadata": {
        "id": "P5fMf9O9DDuq",
        "colab": {
          "base_uri": "https://localhost:8080/",
          "height": 87
        },
        "outputId": "211fcc9d-5cc9-49c1-94ad-ec49fc36a296"
      },
      "source": [
        "n = 10  # how many digits we will display\n",
        "plt.figure(figsize=(20, 4))\n",
        "for i in range(n):\n",
        "    # display original\n",
        "    ax = plt.subplot(1, n, i + 1)\n",
        "    plt.imshow(x_train_noisy[i].reshape(28, 28))\n",
        "    plt.gray()\n",
        "    ax.get_xaxis().set_visible(False)\n",
        "    ax.get_yaxis().set_visible(False)\n",
        "plt.show()\n",
        "plt.close()"
      ],
      "execution_count": null,
      "outputs": [
        {
          "output_type": "display_data",
          "data": {
            "text/plain": [
              "<Figure size 2000x400 with 10 Axes>"
            ],
            "image/png": "[encoded data removed]"
          },
          "metadata": {}
        }
      ]
    },
    {
      "cell_type": "markdown",
      "source": [
        "## **Architecture for Denoising Auto Encoder**"
      ],
      "metadata": {
        "id": "YBLDaovwU63b"
      }
    },
    {
      "cell_type": "code",
      "metadata": {
        "id": "-q8gX9QIHHLl",
        "colab": {
          "base_uri": "https://localhost:8080/"
        },
        "outputId": "b0b670bc-1311-42e8-c160-e9b4d8762a35"
      },
      "source": [
        "input_layer_cnv = Input(shape = (28,28,1))\n",
        "ae_cnv_en = Conv2D (32, (3,3), activation = \"relu\", padding = \"same\", kernel_initializer=\"he_normal\")(input_layer_cnv)\n",
        "ae_cnv_en = MaxPooling2D ((2,2), padding=\"same\")(ae_cnv_en)\n",
        "\n",
        "ae_cnv_en = Conv2D (32, (3,3), activation = \"relu\", padding = \"same\")(ae_cnv_en)\n",
        "ae_cnv_en = MaxPooling2D ((2,2), padding=\"same\")(ae_cnv_en)\n",
        "\n",
        "ae_cnv_en = Conv2D (4, (3,3), activation = \"relu\", padding = \"same\")(ae_cnv_en)\n",
        "ae_cnv_en = MaxPooling2D ((2,2), padding=\"same\")(ae_cnv_en)\n",
        "\n",
        "ae_cnv_en = Flatten(name = \"bot\")(ae_cnv_en)\n",
        "\n",
        "ae_cnv_de = Reshape((4,4,4), input_shape= (64,), name= \"botnext0\")(ae_cnv_en)\n",
        "\n",
        "ae_cnv_de = Conv2D (4, (3,3), activation = \"relu\", padding = \"same\",name= \"botnext1\")(ae_cnv_de)\n",
        "ae_cnv_de = UpSampling2D ((2,2),name= \"botnext2\")(ae_cnv_de)\n",
        "\n",
        "ae_cnv_de = Conv2D (32, (3,3), activation = \"relu\", padding = \"same\", name= \"botnext3\")(ae_cnv_de)\n",
        "ae_cnv_de = UpSampling2D ((2,2), name= \"botnext4\")(ae_cnv_de)\n",
        "\n",
        "ae_cnv_de = Conv2D (32, (3,3), activation = \"relu\", padding = \"valid\",name= \"botnext5\")(ae_cnv_de)\n",
        "ae_cnv_de = UpSampling2D ((2,2), name= \"botnext6\")(ae_cnv_de)\n",
        "\n",
        "ae_cnv_de = Conv2D (1, (3,3), activation = \"sigmoid\", padding = \"same\",name = \"botnext7\")(ae_cnv_de)\n",
        "Ae_Conv_denoise = Model (inputs = input_layer_cnv, outputs = ae_cnv_de)\n",
        "\n",
        "#Ae_Conv.compile(optimizer=tf.keras.optimizers.SGD(0.09,clipvalue=2.5), loss='binary_crossentropy', metrics = [\"accuracy\"])\n",
        "\n",
        "Ae_Conv_denoise.compile(optimizer=tf.keras.optimizers.Adadelta(0.1,clipvalue=2), loss='binary_crossentropy', metrics = [\"accuracy\"])\n",
        "Ae_Conv_denoise.summary()"
      ],
      "execution_count": null,
      "outputs": [
        {
          "output_type": "stream",
          "name": "stdout",
          "text": [
            "Model: \"model_9\"\n",
            "_________________________________________________________________\n",
            " Layer (type)                Output Shape              Param #   \n",
            "=================================================================\n",
            " input_21 (InputLayer)       [(None, 28, 28, 1)]       0         \n",
            "                                                                 \n",
            " conv2d_33 (Conv2D)          (None, 28, 28, 32)        320       \n",
            "                                                                 \n",
            " max_pooling2d_33 (MaxPoolin  (None, 14, 14, 32)       0         \n",
            " g2D)                                                            \n",
            "                                                                 \n",
            " conv2d_34 (Conv2D)          (None, 14, 14, 32)        9248      \n",
            "                                                                 \n",
            " max_pooling2d_34 (MaxPoolin  (None, 7, 7, 32)         0         \n",
            " g2D)                                                            \n",
            "                                                                 \n",
            " conv2d_35 (Conv2D)          (None, 7, 7, 4)           1156      \n",
            "                                                                 \n",
            " max_pooling2d_35 (MaxPoolin  (None, 4, 4, 4)          0         \n",
            " g2D)                                                            \n",
            "                                                                 \n",
            " bot (Flatten)               (None, 64)                0         \n",
            "                                                                 \n",
            " botnext0 (Reshape)          (None, 4, 4, 4)           0         \n",
            "                                                                 \n",
            " botnext1 (Conv2D)           (None, 4, 4, 4)           148       \n",
            "                                                                 \n",
            " botnext2 (UpSampling2D)     (None, 8, 8, 4)           0         \n",
            "                                                                 \n",
            " botnext3 (Conv2D)           (None, 8, 8, 32)          1184      \n",
            "                                                                 \n",
            " botnext4 (UpSampling2D)     (None, 16, 16, 32)        0         \n",
            "                                                                 \n",
            " botnext5 (Conv2D)           (None, 14, 14, 32)        9248      \n",
            "                                                                 \n",
            " botnext6 (UpSampling2D)     (None, 28, 28, 32)        0         \n",
            "                                                                 \n",
            " botnext7 (Conv2D)           (None, 28, 28, 1)         289       \n",
            "                                                                 \n",
            "=================================================================\n",
            "Total params: 21,593\n",
            "Trainable params: 21,593\n",
            "Non-trainable params: 0\n",
            "_________________________________________________________________\n"
          ]
        }
      ]
    },
    {
      "cell_type": "markdown",
      "source": [
        "## **Encoder**"
      ],
      "metadata": {
        "id": "aYPunp9NVXH6"
      }
    },
    {
      "cell_type": "code",
      "source": [
        "ae_conv_dns_encoder = Model (inputs = input_layer_cnv,outputs = Ae_Conv_denoise.get_layer(\"bot\").output, name = \"Conv_AE_dns_encoder\")\n",
        "ae_conv_dns_encoder.summary()"
      ],
      "metadata": {
        "id": "_PpFrGQIVZZM"
      },
      "execution_count": null,
      "outputs": []
    },
    {
      "cell_type": "markdown",
      "source": [
        "## **Decoder**"
      ],
      "metadata": {
        "id": "JSFssIpLVca7"
      }
    },
    {
      "cell_type": "code",
      "metadata": {
        "id": "0qCALq9vHyTr",
        "colab": {
          "base_uri": "https://localhost:8080/"
        },
        "outputId": "fa029aa0-c401-4c34-9edc-fdb933352c85"
      },
      "source": [
        "encode_inp_cnv = Input(shape = (64,))\n",
        "tmp_dec = Ae_Conv_denoise.get_layer(\"botnext0\")(encode_inp_cnv)\n",
        "for i in range(1,8):\n",
        "  st = \"botnext{}\".format(i)\n",
        "  tmp_dec = Ae_Conv_denoise.get_layer(st)(tmp_dec)\n",
        "\n",
        "ae_conv_dns_decoder = Model(inputs = encode_inp_cnv,outputs = tmp_dec, name= \"Conv_AE_dns_decoder\")\n",
        "ae_conv_dns_decoder.summary()"
      ],
      "execution_count": null,
      "outputs": [
        {
          "output_type": "stream",
          "name": "stdout",
          "text": [
            "Model: \"Conv_AE_dns_decoder\"\n",
            "_________________________________________________________________\n",
            " Layer (type)                Output Shape              Param #   \n",
            "=================================================================\n",
            " input_12 (InputLayer)       [(None, 64)]              0         \n",
            "                                                                 \n",
            " botnext0 (Reshape)          (None, 4, 4, 4)           0         \n",
            "                                                                 \n",
            " botnext1 (Conv2D)           (None, 4, 4, 4)           148       \n",
            "                                                                 \n",
            " botnext2 (UpSampling2D)     (None, 8, 8, 4)           0         \n",
            "                                                                 \n",
            " botnext3 (Conv2D)           (None, 8, 8, 32)          1184      \n",
            "                                                                 \n",
            " botnext4 (UpSampling2D)     (None, 16, 16, 32)        0         \n",
            "                                                                 \n",
            " botnext5 (Conv2D)           (None, 14, 14, 32)        9248      \n",
            "                                                                 \n",
            " botnext6 (UpSampling2D)     (None, 28, 28, 32)        0         \n",
            "                                                                 \n",
            " botnext7 (Conv2D)           (None, 28, 28, 1)         289       \n",
            "                                                                 \n",
            "=================================================================\n",
            "Total params: 10,869\n",
            "Trainable params: 10,869\n",
            "Non-trainable params: 0\n",
            "_________________________________________________________________\n",
            "Model: \"Conv_AE_dns_encoder\"\n",
            "_________________________________________________________________\n",
            " Layer (type)                Output Shape              Param #   \n",
            "=================================================================\n",
            " input_11 (InputLayer)       [(None, 28, 28, 1)]       0         \n",
            "                                                                 \n",
            " conv2d_18 (Conv2D)          (None, 28, 28, 32)        320       \n",
            "                                                                 \n",
            " max_pooling2d_18 (MaxPoolin  (None, 14, 14, 32)       0         \n",
            " g2D)                                                            \n",
            "                                                                 \n",
            " conv2d_19 (Conv2D)          (None, 14, 14, 32)        9248      \n",
            "                                                                 \n",
            " max_pooling2d_19 (MaxPoolin  (None, 7, 7, 32)         0         \n",
            " g2D)                                                            \n",
            "                                                                 \n",
            " conv2d_20 (Conv2D)          (None, 7, 7, 4)           1156      \n",
            "                                                                 \n",
            " max_pooling2d_20 (MaxPoolin  (None, 4, 4, 4)          0         \n",
            " g2D)                                                            \n",
            "                                                                 \n",
            " bot (Flatten)               (None, 64)                0         \n",
            "                                                                 \n",
            "=================================================================\n",
            "Total params: 10,724\n",
            "Trainable params: 10,724\n",
            "Non-trainable params: 0\n",
            "_________________________________________________________________\n"
          ]
        }
      ]
    },
    {
      "cell_type": "markdown",
      "source": [
        "## **Training the Denoising Auto Encoder**"
      ],
      "metadata": {
        "id": "hEXNLKHOVhHS"
      }
    },
    {
      "cell_type": "code",
      "metadata": {
        "id": "JGS8-DbTKsEr",
        "colab": {
          "base_uri": "https://localhost:8080/"
        },
        "outputId": "0130498a-6389-4b1d-b266-bb8c27c4ab93"
      },
      "source": [
        "from time import time\n",
        "tic = time()\n",
        "Ae_Conv_denoise.fit(x_train_noisy, x_train,\n",
        "                epochs=100,\n",
        "                verbose=2,\n",
        "                batch_size=256,\n",
        "                shuffle=False, validation_split = 0.1)\n",
        "                #validation_data=(x_test, x_test))\n",
        "toc = time()\n",
        "print(\"Training Took {} Secs\".format(toc-tic))"
      ],
      "execution_count": null,
      "outputs": [
        {
          "output_type": "stream",
          "name": "stdout",
          "text": [
            "Epoch 1/100\n",
            "211/211 - 4s - loss: 0.3540 - accuracy: 0.7934 - val_loss: 0.2672 - val_accuracy: 0.8007 - 4s/epoch - 21ms/step\n",
            "Epoch 2/100\n",
            "211/211 - 2s - loss: 0.2641 - accuracy: 0.7987 - val_loss: 0.2593 - val_accuracy: 0.8054 - 2s/epoch - 9ms/step\n",
            "Epoch 3/100\n",
            "211/211 - 2s - loss: 0.2567 - accuracy: 0.8003 - val_loss: 0.2535 - val_accuracy: 0.8053 - 2s/epoch - 10ms/step\n",
            "Epoch 4/100\n",
            "211/211 - 2s - loss: 0.2504 - accuracy: 0.8002 - val_loss: 0.2474 - val_accuracy: 0.8046 - 2s/epoch - 9ms/step\n",
            "Epoch 5/100\n",
            "211/211 - 2s - loss: 0.2440 - accuracy: 0.7985 - val_loss: 0.2415 - val_accuracy: 0.8028 - 2s/epoch - 9ms/step\n",
            "Epoch 6/100\n",
            "211/211 - 2s - loss: 0.2384 - accuracy: 0.7964 - val_loss: 0.2362 - val_accuracy: 0.8012 - 2s/epoch - 9ms/step\n",
            "Epoch 7/100\n",
            "211/211 - 2s - loss: 0.2330 - accuracy: 0.7947 - val_loss: 0.2305 - val_accuracy: 0.7996 - 2s/epoch - 9ms/step\n",
            "Epoch 8/100\n",
            "211/211 - 2s - loss: 0.2267 - accuracy: 0.7935 - val_loss: 0.2238 - val_accuracy: 0.7987 - 2s/epoch - 9ms/step\n",
            "Epoch 9/100\n",
            "211/211 - 2s - loss: 0.2202 - accuracy: 0.7929 - val_loss: 0.2176 - val_accuracy: 0.7979 - 2s/epoch - 10ms/step\n",
            "Epoch 10/100\n",
            "211/211 - 2s - loss: 0.2146 - accuracy: 0.7926 - val_loss: 0.2129 - val_accuracy: 0.7973 - 2s/epoch - 9ms/step\n",
            "Epoch 11/100\n",
            "211/211 - 2s - loss: 0.2106 - accuracy: 0.7927 - val_loss: 0.2095 - val_accuracy: 0.7972 - 2s/epoch - 9ms/step\n",
            "Epoch 12/100\n",
            "211/211 - 2s - loss: 0.2076 - accuracy: 0.7929 - val_loss: 0.2068 - val_accuracy: 0.7973 - 2s/epoch - 9ms/step\n",
            "Epoch 13/100\n",
            "211/211 - 2s - loss: 0.2051 - accuracy: 0.7932 - val_loss: 0.2045 - val_accuracy: 0.7975 - 2s/epoch - 9ms/step\n",
            "Epoch 14/100\n",
            "211/211 - 2s - loss: 0.2030 - accuracy: 0.7936 - val_loss: 0.2024 - val_accuracy: 0.7975 - 2s/epoch - 9ms/step\n",
            "Epoch 15/100\n",
            "211/211 - 2s - loss: 0.2010 - accuracy: 0.7940 - val_loss: 0.2004 - val_accuracy: 0.7976 - 2s/epoch - 9ms/step\n",
            "Epoch 16/100\n",
            "211/211 - 2s - loss: 0.1992 - accuracy: 0.7944 - val_loss: 0.1986 - val_accuracy: 0.7976 - 2s/epoch - 9ms/step\n",
            "Epoch 17/100\n",
            "211/211 - 2s - loss: 0.1975 - accuracy: 0.7947 - val_loss: 0.1969 - val_accuracy: 0.7976 - 2s/epoch - 9ms/step\n",
            "Epoch 18/100\n",
            "211/211 - 2s - loss: 0.1959 - accuracy: 0.7951 - val_loss: 0.1952 - val_accuracy: 0.7977 - 2s/epoch - 9ms/step\n",
            "Epoch 19/100\n",
            "211/211 - 2s - loss: 0.1944 - accuracy: 0.7954 - val_loss: 0.1936 - val_accuracy: 0.7977 - 2s/epoch - 9ms/step\n",
            "Epoch 20/100\n",
            "211/211 - 2s - loss: 0.1929 - accuracy: 0.7958 - val_loss: 0.1920 - val_accuracy: 0.7979 - 2s/epoch - 9ms/step\n",
            "Epoch 21/100\n",
            "211/211 - 2s - loss: 0.1914 - accuracy: 0.7962 - val_loss: 0.1903 - val_accuracy: 0.7975 - 2s/epoch - 9ms/step\n",
            "Epoch 22/100\n",
            "211/211 - 2s - loss: 0.1900 - accuracy: 0.7965 - val_loss: 0.1888 - val_accuracy: 0.7974 - 2s/epoch - 10ms/step\n",
            "Epoch 23/100\n",
            "211/211 - 2s - loss: 0.1886 - accuracy: 0.7967 - val_loss: 0.1875 - val_accuracy: 0.7974 - 2s/epoch - 9ms/step\n",
            "Epoch 24/100\n",
            "211/211 - 2s - loss: 0.1873 - accuracy: 0.7970 - val_loss: 0.1862 - val_accuracy: 0.7976 - 2s/epoch - 9ms/step\n",
            "Epoch 25/100\n",
            "211/211 - 2s - loss: 0.1861 - accuracy: 0.7972 - val_loss: 0.1850 - val_accuracy: 0.7977 - 2s/epoch - 9ms/step\n",
            "Epoch 26/100\n",
            "211/211 - 2s - loss: 0.1850 - accuracy: 0.7975 - val_loss: 0.1839 - val_accuracy: 0.7978 - 2s/epoch - 9ms/step\n",
            "Epoch 27/100\n",
            "211/211 - 2s - loss: 0.1838 - accuracy: 0.7977 - val_loss: 0.1829 - val_accuracy: 0.7979 - 2s/epoch - 9ms/step\n",
            "Epoch 28/100\n",
            "211/211 - 2s - loss: 0.1828 - accuracy: 0.7979 - val_loss: 0.1819 - val_accuracy: 0.7982 - 2s/epoch - 10ms/step\n",
            "Epoch 29/100\n",
            "211/211 - 2s - loss: 0.1819 - accuracy: 0.7981 - val_loss: 0.1810 - val_accuracy: 0.7983 - 2s/epoch - 9ms/step\n",
            "Epoch 30/100\n",
            "211/211 - 2s - loss: 0.1810 - accuracy: 0.7983 - val_loss: 0.1801 - val_accuracy: 0.7985 - 2s/epoch - 9ms/step\n",
            "Epoch 31/100\n",
            "211/211 - 2s - loss: 0.1801 - accuracy: 0.7984 - val_loss: 0.1792 - val_accuracy: 0.7986 - 2s/epoch - 9ms/step\n",
            "Epoch 32/100\n",
            "211/211 - 2s - loss: 0.1792 - accuracy: 0.7986 - val_loss: 0.1784 - val_accuracy: 0.7986 - 2s/epoch - 9ms/step\n",
            "Epoch 33/100\n",
            "211/211 - 2s - loss: 0.1784 - accuracy: 0.7988 - val_loss: 0.1776 - val_accuracy: 0.7988 - 2s/epoch - 9ms/step\n",
            "Epoch 34/100\n",
            "211/211 - 2s - loss: 0.1776 - accuracy: 0.7989 - val_loss: 0.1768 - val_accuracy: 0.7988 - 2s/epoch - 9ms/step\n",
            "Epoch 35/100\n",
            "211/211 - 2s - loss: 0.1768 - accuracy: 0.7991 - val_loss: 0.1760 - val_accuracy: 0.7991 - 2s/epoch - 9ms/step\n",
            "Epoch 36/100\n",
            "211/211 - 2s - loss: 0.1760 - accuracy: 0.7992 - val_loss: 0.1752 - val_accuracy: 0.7993 - 2s/epoch - 9ms/step\n",
            "Epoch 37/100\n",
            "211/211 - 2s - loss: 0.1752 - accuracy: 0.7994 - val_loss: 0.1744 - val_accuracy: 0.7994 - 2s/epoch - 9ms/step\n",
            "Epoch 38/100\n",
            "211/211 - 2s - loss: 0.1745 - accuracy: 0.7995 - val_loss: 0.1737 - val_accuracy: 0.7995 - 2s/epoch - 9ms/step\n",
            "Epoch 39/100\n",
            "211/211 - 2s - loss: 0.1737 - accuracy: 0.7997 - val_loss: 0.1730 - val_accuracy: 0.7996 - 2s/epoch - 9ms/step\n",
            "Epoch 40/100\n",
            "211/211 - 2s - loss: 0.1729 - accuracy: 0.7998 - val_loss: 0.1722 - val_accuracy: 0.7998 - 2s/epoch - 9ms/step\n",
            "Epoch 41/100\n",
            "211/211 - 2s - loss: 0.1722 - accuracy: 0.8000 - val_loss: 0.1715 - val_accuracy: 0.7999 - 2s/epoch - 10ms/step\n",
            "Epoch 42/100\n",
            "211/211 - 2s - loss: 0.1714 - accuracy: 0.8001 - val_loss: 0.1708 - val_accuracy: 0.8001 - 2s/epoch - 9ms/step\n",
            "Epoch 43/100\n",
            "211/211 - 2s - loss: 0.1707 - accuracy: 0.8002 - val_loss: 0.1701 - val_accuracy: 0.8002 - 2s/epoch - 9ms/step\n",
            "Epoch 44/100\n",
            "211/211 - 2s - loss: 0.1701 - accuracy: 0.8004 - val_loss: 0.1694 - val_accuracy: 0.8003 - 2s/epoch - 9ms/step\n",
            "Epoch 45/100\n",
            "211/211 - 2s - loss: 0.1694 - accuracy: 0.8005 - val_loss: 0.1687 - val_accuracy: 0.8005 - 2s/epoch - 9ms/step\n",
            "Epoch 46/100\n",
            "211/211 - 2s - loss: 0.1687 - accuracy: 0.8006 - val_loss: 0.1680 - val_accuracy: 0.8007 - 2s/epoch - 9ms/step\n",
            "Epoch 47/100\n",
            "211/211 - 2s - loss: 0.1680 - accuracy: 0.8008 - val_loss: 0.1673 - val_accuracy: 0.8008 - 2s/epoch - 10ms/step\n",
            "Epoch 48/100\n",
            "211/211 - 2s - loss: 0.1673 - accuracy: 0.8009 - val_loss: 0.1665 - val_accuracy: 0.8009 - 2s/epoch - 10ms/step\n",
            "Epoch 49/100\n",
            "211/211 - 2s - loss: 0.1666 - accuracy: 0.8011 - val_loss: 0.1657 - val_accuracy: 0.8008 - 2s/epoch - 9ms/step\n",
            "Epoch 50/100\n",
            "211/211 - 2s - loss: 0.1658 - accuracy: 0.8012 - val_loss: 0.1650 - val_accuracy: 0.8010 - 2s/epoch - 9ms/step\n",
            "Epoch 51/100\n",
            "211/211 - 2s - loss: 0.1650 - accuracy: 0.8014 - val_loss: 0.1642 - val_accuracy: 0.8012 - 2s/epoch - 9ms/step\n",
            "Epoch 52/100\n",
            "211/211 - 2s - loss: 0.1642 - accuracy: 0.8016 - val_loss: 0.1635 - val_accuracy: 0.8013 - 2s/epoch - 9ms/step\n",
            "Epoch 53/100\n",
            "211/211 - 2s - loss: 0.1635 - accuracy: 0.8017 - val_loss: 0.1629 - val_accuracy: 0.8014 - 2s/epoch - 9ms/step\n",
            "Epoch 54/100\n",
            "211/211 - 2s - loss: 0.1629 - accuracy: 0.8018 - val_loss: 0.1622 - val_accuracy: 0.8016 - 2s/epoch - 10ms/step\n",
            "Epoch 55/100\n",
            "211/211 - 2s - loss: 0.1622 - accuracy: 0.8020 - val_loss: 0.1616 - val_accuracy: 0.8016 - 2s/epoch - 9ms/step\n",
            "Epoch 56/100\n",
            "211/211 - 2s - loss: 0.1616 - accuracy: 0.8021 - val_loss: 0.1610 - val_accuracy: 0.8018 - 2s/epoch - 9ms/step\n",
            "Epoch 57/100\n",
            "211/211 - 2s - loss: 0.1610 - accuracy: 0.8022 - val_loss: 0.1604 - val_accuracy: 0.8019 - 2s/epoch - 9ms/step\n",
            "Epoch 58/100\n",
            "211/211 - 2s - loss: 0.1604 - accuracy: 0.8023 - val_loss: 0.1598 - val_accuracy: 0.8021 - 2s/epoch - 9ms/step\n",
            "Epoch 59/100\n",
            "211/211 - 2s - loss: 0.1599 - accuracy: 0.8024 - val_loss: 0.1593 - val_accuracy: 0.8021 - 2s/epoch - 9ms/step\n",
            "Epoch 60/100\n",
            "211/211 - 2s - loss: 0.1594 - accuracy: 0.8025 - val_loss: 0.1587 - val_accuracy: 0.8023 - 2s/epoch - 10ms/step\n",
            "Epoch 61/100\n",
            "211/211 - 2s - loss: 0.1589 - accuracy: 0.8026 - val_loss: 0.1582 - val_accuracy: 0.8024 - 2s/epoch - 9ms/step\n",
            "Epoch 62/100\n",
            "211/211 - 2s - loss: 0.1584 - accuracy: 0.8027 - val_loss: 0.1577 - val_accuracy: 0.8025 - 2s/epoch - 9ms/step\n",
            "Epoch 63/100\n",
            "211/211 - 2s - loss: 0.1579 - accuracy: 0.8028 - val_loss: 0.1572 - val_accuracy: 0.8026 - 2s/epoch - 9ms/step\n",
            "Epoch 64/100\n",
            "211/211 - 2s - loss: 0.1575 - accuracy: 0.8029 - val_loss: 0.1568 - val_accuracy: 0.8027 - 2s/epoch - 9ms/step\n",
            "Epoch 65/100\n",
            "211/211 - 2s - loss: 0.1570 - accuracy: 0.8030 - val_loss: 0.1563 - val_accuracy: 0.8027 - 2s/epoch - 9ms/step\n",
            "Epoch 66/100\n",
            "211/211 - 2s - loss: 0.1566 - accuracy: 0.8031 - val_loss: 0.1559 - val_accuracy: 0.8028 - 2s/epoch - 9ms/step\n",
            "Epoch 67/100\n",
            "211/211 - 2s - loss: 0.1562 - accuracy: 0.8031 - val_loss: 0.1555 - val_accuracy: 0.8029 - 2s/epoch - 9ms/step\n",
            "Epoch 68/100\n",
            "211/211 - 2s - loss: 0.1558 - accuracy: 0.8032 - val_loss: 0.1551 - val_accuracy: 0.8029 - 2s/epoch - 9ms/step\n",
            "Epoch 69/100\n",
            "211/211 - 2s - loss: 0.1554 - accuracy: 0.8033 - val_loss: 0.1548 - val_accuracy: 0.8029 - 2s/epoch - 9ms/step\n",
            "Epoch 70/100\n",
            "211/211 - 2s - loss: 0.1550 - accuracy: 0.8034 - val_loss: 0.1544 - val_accuracy: 0.8030 - 2s/epoch - 9ms/step\n",
            "Epoch 71/100\n",
            "211/211 - 2s - loss: 0.1546 - accuracy: 0.8034 - val_loss: 0.1540 - val_accuracy: 0.8030 - 2s/epoch - 9ms/step\n",
            "Epoch 72/100\n",
            "211/211 - 2s - loss: 0.1543 - accuracy: 0.8035 - val_loss: 0.1537 - val_accuracy: 0.8030 - 2s/epoch - 9ms/step\n",
            "Epoch 73/100\n",
            "211/211 - 2s - loss: 0.1539 - accuracy: 0.8036 - val_loss: 0.1534 - val_accuracy: 0.8031 - 2s/epoch - 10ms/step\n",
            "Epoch 74/100\n",
            "211/211 - 2s - loss: 0.1536 - accuracy: 0.8036 - val_loss: 0.1530 - val_accuracy: 0.8032 - 2s/epoch - 9ms/step\n",
            "Epoch 75/100\n",
            "211/211 - 2s - loss: 0.1532 - accuracy: 0.8037 - val_loss: 0.1527 - val_accuracy: 0.8032 - 2s/epoch - 9ms/step\n",
            "Epoch 76/100\n",
            "211/211 - 2s - loss: 0.1529 - accuracy: 0.8037 - val_loss: 0.1524 - val_accuracy: 0.8032 - 2s/epoch - 9ms/step\n",
            "Epoch 77/100\n",
            "211/211 - 2s - loss: 0.1526 - accuracy: 0.8038 - val_loss: 0.1521 - val_accuracy: 0.8033 - 2s/epoch - 9ms/step\n",
            "Epoch 78/100\n",
            "211/211 - 2s - loss: 0.1523 - accuracy: 0.8039 - val_loss: 0.1518 - val_accuracy: 0.8034 - 2s/epoch - 9ms/step\n",
            "Epoch 79/100\n",
            "211/211 - 2s - loss: 0.1520 - accuracy: 0.8039 - val_loss: 0.1515 - val_accuracy: 0.8034 - 2s/epoch - 10ms/step\n",
            "Epoch 80/100\n",
            "211/211 - 2s - loss: 0.1517 - accuracy: 0.8040 - val_loss: 0.1512 - val_accuracy: 0.8035 - 2s/epoch - 9ms/step\n",
            "Epoch 81/100\n",
            "211/211 - 2s - loss: 0.1514 - accuracy: 0.8040 - val_loss: 0.1509 - val_accuracy: 0.8035 - 2s/epoch - 9ms/step\n",
            "Epoch 82/100\n",
            "211/211 - 2s - loss: 0.1511 - accuracy: 0.8041 - val_loss: 0.1507 - val_accuracy: 0.8036 - 2s/epoch - 9ms/step\n",
            "Epoch 83/100\n",
            "211/211 - 2s - loss: 0.1508 - accuracy: 0.8041 - val_loss: 0.1504 - val_accuracy: 0.8036 - 2s/epoch - 9ms/step\n",
            "Epoch 84/100\n",
            "211/211 - 2s - loss: 0.1505 - accuracy: 0.8042 - val_loss: 0.1501 - val_accuracy: 0.8036 - 2s/epoch - 9ms/step\n",
            "Epoch 85/100\n",
            "211/211 - 2s - loss: 0.1503 - accuracy: 0.8042 - val_loss: 0.1498 - val_accuracy: 0.8037 - 2s/epoch - 10ms/step\n",
            "Epoch 86/100\n",
            "211/211 - 2s - loss: 0.1500 - accuracy: 0.8043 - val_loss: 0.1496 - val_accuracy: 0.8038 - 2s/epoch - 10ms/step\n",
            "Epoch 87/100\n",
            "211/211 - 2s - loss: 0.1497 - accuracy: 0.8044 - val_loss: 0.1493 - val_accuracy: 0.8039 - 2s/epoch - 9ms/step\n",
            "Epoch 88/100\n",
            "211/211 - 2s - loss: 0.1494 - accuracy: 0.8044 - val_loss: 0.1491 - val_accuracy: 0.8040 - 2s/epoch - 9ms/step\n",
            "Epoch 89/100\n",
            "211/211 - 2s - loss: 0.1492 - accuracy: 0.8045 - val_loss: 0.1488 - val_accuracy: 0.8040 - 2s/epoch - 9ms/step\n",
            "Epoch 90/100\n",
            "211/211 - 2s - loss: 0.1489 - accuracy: 0.8045 - val_loss: 0.1485 - val_accuracy: 0.8040 - 2s/epoch - 9ms/step\n",
            "Epoch 91/100\n",
            "211/211 - 2s - loss: 0.1487 - accuracy: 0.8046 - val_loss: 0.1483 - val_accuracy: 0.8041 - 2s/epoch - 9ms/step\n",
            "Epoch 92/100\n",
            "211/211 - 2s - loss: 0.1485 - accuracy: 0.8046 - val_loss: 0.1480 - val_accuracy: 0.8042 - 2s/epoch - 10ms/step\n",
            "Epoch 93/100\n",
            "211/211 - 2s - loss: 0.1482 - accuracy: 0.8046 - val_loss: 0.1478 - val_accuracy: 0.8042 - 2s/epoch - 9ms/step\n",
            "Epoch 94/100\n",
            "211/211 - 2s - loss: 0.1480 - accuracy: 0.8047 - val_loss: 0.1476 - val_accuracy: 0.8042 - 2s/epoch - 9ms/step\n",
            "Epoch 95/100\n",
            "211/211 - 2s - loss: 0.1477 - accuracy: 0.8047 - val_loss: 0.1474 - val_accuracy: 0.8042 - 2s/epoch - 9ms/step\n",
            "Epoch 96/100\n",
            "211/211 - 2s - loss: 0.1475 - accuracy: 0.8048 - val_loss: 0.1471 - val_accuracy: 0.8043 - 2s/epoch - 9ms/step\n",
            "Epoch 97/100\n",
            "211/211 - 2s - loss: 0.1473 - accuracy: 0.8048 - val_loss: 0.1469 - val_accuracy: 0.8043 - 2s/epoch - 9ms/step\n",
            "Epoch 98/100\n",
            "211/211 - 2s - loss: 0.1471 - accuracy: 0.8049 - val_loss: 0.1467 - val_accuracy: 0.8043 - 2s/epoch - 10ms/step\n",
            "Epoch 99/100\n",
            "211/211 - 2s - loss: 0.1468 - accuracy: 0.8049 - val_loss: 0.1465 - val_accuracy: 0.8044 - 2s/epoch - 9ms/step\n",
            "Epoch 100/100\n",
            "211/211 - 2s - loss: 0.1466 - accuracy: 0.8050 - val_loss: 0.1463 - val_accuracy: 0.8045 - 2s/epoch - 9ms/step\n",
            "Training Took 194.2233202457428 Secs\n"
          ]
        }
      ]
    },
    {
      "cell_type": "markdown",
      "source": [
        "## **Passing images to Encoder**"
      ],
      "metadata": {
        "id": "9NHyfFdcVpwT"
      }
    },
    {
      "cell_type": "code",
      "metadata": {
        "id": "fJKUIK4sRAwC",
        "colab": {
          "base_uri": "https://localhost:8080/"
        },
        "outputId": "f88eaa5d-5f41-4001-8b86-77d0ea99b75b"
      },
      "source": [
        "dns_encoded_imgs = ae_conv_dns_encoder.predict(x_test_noisy)\n",
        "#encoded_imgs = ae_conv_encoder.predict(x_train[0:100])\n",
        "print (dns_encoded_imgs.shape)"
      ],
      "execution_count": null,
      "outputs": [
        {
          "output_type": "stream",
          "name": "stdout",
          "text": [
            "313/313 [==============================] - 1s 2ms/step\n",
            "(10000, 64)\n"
          ]
        }
      ]
    },
    {
      "cell_type": "markdown",
      "source": [
        "## **Passing Compressed image Features to Deccoder**"
      ],
      "metadata": {
        "id": "CSsS_g2hV0yC"
      }
    },
    {
      "cell_type": "code",
      "metadata": {
        "id": "9zYme9MORkaW",
        "colab": {
          "base_uri": "https://localhost:8080/",
          "height": 221
        },
        "outputId": "66e4a8e5-da78-4854-b8db-b2fb33a83881"
      },
      "source": [
        "#decoded_imgs = ae_conv_decoder.predict(encoded_imgs)\n",
        "dns_decoded_imgs = ae_conv_dns_decoder.predict(dns_encoded_imgs)\n",
        "# dns_decoded_image = Ae_Conv_denoise.predict(x_test_noisy)\n",
        "print(\"Recreated image Representation of Shape {} using Decoder and reduced Image representation of shape {}\".format (dns_decoded_imgs.shape,\n",
        "                                                                                                                      dns_encoded_imgs.shape))\n",
        "n = 10  # how many digits we will display\n",
        "k =16\n",
        "plt.figure(figsize=(20, 4))\n",
        "for i in range(n):\n",
        "    # display original\n",
        "    ax = plt.subplot(2, n, i + 1)\n",
        "    plt.imshow(x_test_noisy[i*k].reshape(28, 28))\n",
        "    plt.gray()\n",
        "    ax.get_xaxis().set_visible(False)\n",
        "    ax.get_yaxis().set_visible(False)\n",
        "\n",
        "    # display reconstruction\n",
        "    ax = plt.subplot(2, n, i + 1 + n)\n",
        "    plt.imshow(dns_decoded_imgs[i*k].reshape(28, 28))\n",
        "    plt.gray()\n",
        "    ax.get_xaxis().set_visible(False)\n",
        "    ax.get_yaxis().set_visible(False)\n",
        "plt.show()"
      ],
      "execution_count": null,
      "outputs": [
        {
          "output_type": "stream",
          "name": "stdout",
          "text": [
            "313/313 [==============================] - 1s 2ms/step\n",
            "Recreated image Representation of Shape (10000, 28, 28, 1) using Decoder and reduced Image representation of shape (10000, 64)\n"
          ]
        },
        {
          "output_type": "display_data",
          "data": {
            "text/plain": [
              "<Figure size 2000x400 with 20 Axes>"
            ],
            "image/png": "[encoded data removed]"
          },
          "metadata": {}
        }
      ]
    },
    {
      "cell_type": "code",
      "source": [
        "dns_decoded_image = Ae_Conv_denoise.predict(x_test_noisy)\n",
        "print(\"Recreated image Representation of Shape {} using Decoder and reduced Image representation of shape {}\".format (dns_decoded_image.shape,\n",
        "                                                                                                                      dns_decoded_image.shape))\n",
        "n = 10  # how many digits we will display\n",
        "k =16\n",
        "plt.figure(figsize=(20, 4))\n",
        "for i in range(n):\n",
        "    # display original\n",
        "    ax = plt.subplot(2, n, i + 1)\n",
        "    plt.imshow(x_test_noisy[i*k].reshape(28, 28))\n",
        "    plt.gray()\n",
        "    ax.get_xaxis().set_visible(False)\n",
        "    ax.get_yaxis().set_visible(False)\n",
        "\n",
        "    # display reconstruction\n",
        "    ax = plt.subplot(2, n, i + 1 + n)\n",
        "    plt.imshow(dns_decoded_image[i*k].reshape(28, 28))\n",
        "    plt.gray()\n",
        "    ax.get_xaxis().set_visible(False)\n",
        "    ax.get_yaxis().set_visible(False)\n",
        "plt.show()"
      ],
      "metadata": {
        "colab": {
          "base_uri": "https://localhost:8080/",
          "height": 221
        },
        "id": "vzmt2GNQmUrH",
        "outputId": "97fa32e0-7df9-4635-8923-837888e1ebd5"
      },
      "execution_count": null,
      "outputs": [
        {
          "output_type": "stream",
          "name": "stdout",
          "text": [
            "313/313 [==============================] - 1s 2ms/step\n",
            "Recreated image Representation of Shape (10000, 28, 28, 1) using Decoder and reduced Image representation of shape (10000, 28, 28, 1)\n"
          ]
        },
        {
          "output_type": "display_data",
          "data": {
            "text/plain": [
              "<Figure size 2000x400 with 20 Axes>"
            ],
            "image/png": "[encoded data removed]"
          },
          "metadata": {}
        }
      ]
    }
  ]
}